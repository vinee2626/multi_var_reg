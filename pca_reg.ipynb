{
 "cells": [
  {
   "cell_type": "code",
   "execution_count": 73,
   "metadata": {},
   "outputs": [],
   "source": [
    "# loading library\n",
    "import pandas as pd"
   ]
  },
  {
   "cell_type": "markdown",
   "metadata": {},
   "source": [
    "## Creating dataframe and loading the dataset"
   ]
  },
  {
   "cell_type": "code",
   "execution_count": 74,
   "metadata": {},
   "outputs": [
    {
     "data": {
      "text/html": [
       "<div>\n",
       "<style scoped>\n",
       "    .dataframe tbody tr th:only-of-type {\n",
       "        vertical-align: middle;\n",
       "    }\n",
       "\n",
       "    .dataframe tbody tr th {\n",
       "        vertical-align: top;\n",
       "    }\n",
       "\n",
       "    .dataframe thead th {\n",
       "        text-align: right;\n",
       "    }\n",
       "</style>\n",
       "<table border=\"1\" class=\"dataframe\">\n",
       "  <thead>\n",
       "    <tr style=\"text-align: right;\">\n",
       "      <th></th>\n",
       "      <th>x1</th>\n",
       "      <th>x2</th>\n",
       "      <th>y</th>\n",
       "    </tr>\n",
       "  </thead>\n",
       "  <tbody>\n",
       "    <tr>\n",
       "      <th>0</th>\n",
       "      <td>0.1</td>\n",
       "      <td>42</td>\n",
       "      <td>20.92</td>\n",
       "    </tr>\n",
       "    <tr>\n",
       "      <th>1</th>\n",
       "      <td>0.2</td>\n",
       "      <td>49</td>\n",
       "      <td>30.44</td>\n",
       "    </tr>\n",
       "    <tr>\n",
       "      <th>2</th>\n",
       "      <td>0.3</td>\n",
       "      <td>20</td>\n",
       "      <td>9.96</td>\n",
       "    </tr>\n",
       "    <tr>\n",
       "      <th>3</th>\n",
       "      <td>0.4</td>\n",
       "      <td>66</td>\n",
       "      <td>36.98</td>\n",
       "    </tr>\n",
       "    <tr>\n",
       "      <th>4</th>\n",
       "      <td>0.5</td>\n",
       "      <td>2</td>\n",
       "      <td>0.00</td>\n",
       "    </tr>\n",
       "    <tr>\n",
       "      <th>...</th>\n",
       "      <td>...</td>\n",
       "      <td>...</td>\n",
       "      <td>...</td>\n",
       "    </tr>\n",
       "    <tr>\n",
       "      <th>95</th>\n",
       "      <td>9.6</td>\n",
       "      <td>60</td>\n",
       "      <td>37.82</td>\n",
       "    </tr>\n",
       "    <tr>\n",
       "      <th>96</th>\n",
       "      <td>9.7</td>\n",
       "      <td>11</td>\n",
       "      <td>6.34</td>\n",
       "    </tr>\n",
       "    <tr>\n",
       "      <th>97</th>\n",
       "      <td>9.8</td>\n",
       "      <td>38</td>\n",
       "      <td>20.86</td>\n",
       "    </tr>\n",
       "    <tr>\n",
       "      <th>98</th>\n",
       "      <td>9.9</td>\n",
       "      <td>80</td>\n",
       "      <td>45.88</td>\n",
       "    </tr>\n",
       "    <tr>\n",
       "      <th>99</th>\n",
       "      <td>10.0</td>\n",
       "      <td>66</td>\n",
       "      <td>41.90</td>\n",
       "    </tr>\n",
       "  </tbody>\n",
       "</table>\n",
       "<p>100 rows × 3 columns</p>\n",
       "</div>"
      ],
      "text/plain": [
       "      x1  x2      y\n",
       "0    0.1  42  20.92\n",
       "1    0.2  49  30.44\n",
       "2    0.3  20   9.96\n",
       "3    0.4  66  36.98\n",
       "4    0.5   2   0.00\n",
       "..   ...  ..    ...\n",
       "95   9.6  60  37.82\n",
       "96   9.7  11   6.34\n",
       "97   9.8  38  20.86\n",
       "98   9.9  80  45.88\n",
       "99  10.0  66  41.90\n",
       "\n",
       "[100 rows x 3 columns]"
      ]
     },
     "execution_count": 74,
     "metadata": {},
     "output_type": "execute_result"
    }
   ],
   "source": [
    "import pandas as pd\n",
    "df = pd.read_csv('data.csv')\n",
    "df"
   ]
  },
  {
   "cell_type": "markdown",
   "metadata": {},
   "source": [
    "## reanaming the columns"
   ]
  },
  {
   "cell_type": "code",
   "execution_count": 75,
   "metadata": {},
   "outputs": [
    {
     "data": {
      "text/html": [
       "<div>\n",
       "<style scoped>\n",
       "    .dataframe tbody tr th:only-of-type {\n",
       "        vertical-align: middle;\n",
       "    }\n",
       "\n",
       "    .dataframe tbody tr th {\n",
       "        vertical-align: top;\n",
       "    }\n",
       "\n",
       "    .dataframe thead th {\n",
       "        text-align: right;\n",
       "    }\n",
       "</style>\n",
       "<table border=\"1\" class=\"dataframe\">\n",
       "  <thead>\n",
       "    <tr style=\"text-align: right;\">\n",
       "      <th></th>\n",
       "      <th>avg rainfall(x1)</th>\n",
       "      <th>elevation (x2)</th>\n",
       "      <th>flood risk (y)</th>\n",
       "    </tr>\n",
       "  </thead>\n",
       "  <tbody>\n",
       "    <tr>\n",
       "      <th>0</th>\n",
       "      <td>0.1</td>\n",
       "      <td>42</td>\n",
       "      <td>20.92</td>\n",
       "    </tr>\n",
       "    <tr>\n",
       "      <th>1</th>\n",
       "      <td>0.2</td>\n",
       "      <td>49</td>\n",
       "      <td>30.44</td>\n",
       "    </tr>\n",
       "    <tr>\n",
       "      <th>2</th>\n",
       "      <td>0.3</td>\n",
       "      <td>20</td>\n",
       "      <td>9.96</td>\n",
       "    </tr>\n",
       "    <tr>\n",
       "      <th>3</th>\n",
       "      <td>0.4</td>\n",
       "      <td>66</td>\n",
       "      <td>36.98</td>\n",
       "    </tr>\n",
       "    <tr>\n",
       "      <th>4</th>\n",
       "      <td>0.5</td>\n",
       "      <td>2</td>\n",
       "      <td>0.00</td>\n",
       "    </tr>\n",
       "    <tr>\n",
       "      <th>...</th>\n",
       "      <td>...</td>\n",
       "      <td>...</td>\n",
       "      <td>...</td>\n",
       "    </tr>\n",
       "    <tr>\n",
       "      <th>95</th>\n",
       "      <td>9.6</td>\n",
       "      <td>60</td>\n",
       "      <td>37.82</td>\n",
       "    </tr>\n",
       "    <tr>\n",
       "      <th>96</th>\n",
       "      <td>9.7</td>\n",
       "      <td>11</td>\n",
       "      <td>6.34</td>\n",
       "    </tr>\n",
       "    <tr>\n",
       "      <th>97</th>\n",
       "      <td>9.8</td>\n",
       "      <td>38</td>\n",
       "      <td>20.86</td>\n",
       "    </tr>\n",
       "    <tr>\n",
       "      <th>98</th>\n",
       "      <td>9.9</td>\n",
       "      <td>80</td>\n",
       "      <td>45.88</td>\n",
       "    </tr>\n",
       "    <tr>\n",
       "      <th>99</th>\n",
       "      <td>10.0</td>\n",
       "      <td>66</td>\n",
       "      <td>41.90</td>\n",
       "    </tr>\n",
       "  </tbody>\n",
       "</table>\n",
       "<p>100 rows × 3 columns</p>\n",
       "</div>"
      ],
      "text/plain": [
       "    avg rainfall(x1)  elevation (x2)  flood risk (y)\n",
       "0                0.1              42           20.92\n",
       "1                0.2              49           30.44\n",
       "2                0.3              20            9.96\n",
       "3                0.4              66           36.98\n",
       "4                0.5               2            0.00\n",
       "..               ...             ...             ...\n",
       "95               9.6              60           37.82\n",
       "96               9.7              11            6.34\n",
       "97               9.8              38           20.86\n",
       "98               9.9              80           45.88\n",
       "99              10.0              66           41.90\n",
       "\n",
       "[100 rows x 3 columns]"
      ]
     },
     "execution_count": 75,
     "metadata": {},
     "output_type": "execute_result"
    }
   ],
   "source": [
    "df.columns = ['avg rainfall(x1)', 'elevation (x2)', 'flood risk (y)']\n",
    "df"
   ]
  },
  {
   "cell_type": "code",
   "execution_count": 76,
   "metadata": {},
   "outputs": [
    {
     "data": {
      "text/plain": [
       "avg rainfall(x1)    float64\n",
       "elevation (x2)      float64\n",
       "flood risk (y)      float64\n",
       "dtype: object"
      ]
     },
     "execution_count": 76,
     "metadata": {},
     "output_type": "execute_result"
    }
   ],
   "source": [
    "df.astype('float').dtypes"
   ]
  },
  {
   "cell_type": "markdown",
   "metadata": {},
   "source": [
    "## Feature scaling - Normalization"
   ]
  },
  {
   "cell_type": "code",
   "execution_count": 77,
   "metadata": {},
   "outputs": [],
   "source": [
    "df['normalized_x1'] = (df['avg rainfall(x1)']-min(df['avg rainfall(x1)']))/(max(df['avg rainfall(x1)'])-min(df['avg rainfall(x1)']))"
   ]
  },
  {
   "cell_type": "code",
   "execution_count": 78,
   "metadata": {},
   "outputs": [],
   "source": [
    "df['normalized_x2'] = (df['elevation (x2)']-min(df['elevation (x2)']))/(max(df['elevation (x2)'])-min(df['elevation (x2)']))"
   ]
  },
  {
   "cell_type": "code",
   "execution_count": 79,
   "metadata": {},
   "outputs": [],
   "source": [
    "df['normalized_y'] = (df['flood risk (y)']-min(df['flood risk (y)']))/(max(df['flood risk (y)'])-min(df['flood risk (y)']))"
   ]
  },
  {
   "cell_type": "code",
   "execution_count": 80,
   "metadata": {},
   "outputs": [
    {
     "data": {
      "text/html": [
       "<div>\n",
       "<style scoped>\n",
       "    .dataframe tbody tr th:only-of-type {\n",
       "        vertical-align: middle;\n",
       "    }\n",
       "\n",
       "    .dataframe tbody tr th {\n",
       "        vertical-align: top;\n",
       "    }\n",
       "\n",
       "    .dataframe thead th {\n",
       "        text-align: right;\n",
       "    }\n",
       "</style>\n",
       "<table border=\"1\" class=\"dataframe\">\n",
       "  <thead>\n",
       "    <tr style=\"text-align: right;\">\n",
       "      <th></th>\n",
       "      <th>avg rainfall(x1)</th>\n",
       "      <th>elevation (x2)</th>\n",
       "      <th>flood risk (y)</th>\n",
       "      <th>normalized_x1</th>\n",
       "      <th>normalized_x2</th>\n",
       "      <th>normalized_y</th>\n",
       "    </tr>\n",
       "  </thead>\n",
       "  <tbody>\n",
       "    <tr>\n",
       "      <th>0</th>\n",
       "      <td>0.1</td>\n",
       "      <td>42</td>\n",
       "      <td>20.92</td>\n",
       "      <td>0.000000</td>\n",
       "      <td>0.424242</td>\n",
       "      <td>0.375314</td>\n",
       "    </tr>\n",
       "    <tr>\n",
       "      <th>1</th>\n",
       "      <td>0.2</td>\n",
       "      <td>49</td>\n",
       "      <td>30.44</td>\n",
       "      <td>0.010101</td>\n",
       "      <td>0.494949</td>\n",
       "      <td>0.546107</td>\n",
       "    </tr>\n",
       "    <tr>\n",
       "      <th>2</th>\n",
       "      <td>0.3</td>\n",
       "      <td>20</td>\n",
       "      <td>9.96</td>\n",
       "      <td>0.020202</td>\n",
       "      <td>0.202020</td>\n",
       "      <td>0.178687</td>\n",
       "    </tr>\n",
       "    <tr>\n",
       "      <th>3</th>\n",
       "      <td>0.4</td>\n",
       "      <td>66</td>\n",
       "      <td>36.98</td>\n",
       "      <td>0.030303</td>\n",
       "      <td>0.666667</td>\n",
       "      <td>0.663437</td>\n",
       "    </tr>\n",
       "    <tr>\n",
       "      <th>4</th>\n",
       "      <td>0.5</td>\n",
       "      <td>2</td>\n",
       "      <td>0.00</td>\n",
       "      <td>0.040404</td>\n",
       "      <td>0.020202</td>\n",
       "      <td>0.000000</td>\n",
       "    </tr>\n",
       "    <tr>\n",
       "      <th>...</th>\n",
       "      <td>...</td>\n",
       "      <td>...</td>\n",
       "      <td>...</td>\n",
       "      <td>...</td>\n",
       "      <td>...</td>\n",
       "      <td>...</td>\n",
       "    </tr>\n",
       "    <tr>\n",
       "      <th>95</th>\n",
       "      <td>9.6</td>\n",
       "      <td>60</td>\n",
       "      <td>37.82</td>\n",
       "      <td>0.959596</td>\n",
       "      <td>0.606061</td>\n",
       "      <td>0.678507</td>\n",
       "    </tr>\n",
       "    <tr>\n",
       "      <th>96</th>\n",
       "      <td>9.7</td>\n",
       "      <td>11</td>\n",
       "      <td>6.34</td>\n",
       "      <td>0.969697</td>\n",
       "      <td>0.111111</td>\n",
       "      <td>0.113742</td>\n",
       "    </tr>\n",
       "    <tr>\n",
       "      <th>97</th>\n",
       "      <td>9.8</td>\n",
       "      <td>38</td>\n",
       "      <td>20.86</td>\n",
       "      <td>0.979798</td>\n",
       "      <td>0.383838</td>\n",
       "      <td>0.374238</td>\n",
       "    </tr>\n",
       "    <tr>\n",
       "      <th>98</th>\n",
       "      <td>9.9</td>\n",
       "      <td>80</td>\n",
       "      <td>45.88</td>\n",
       "      <td>0.989899</td>\n",
       "      <td>0.808081</td>\n",
       "      <td>0.823107</td>\n",
       "    </tr>\n",
       "    <tr>\n",
       "      <th>99</th>\n",
       "      <td>10.0</td>\n",
       "      <td>66</td>\n",
       "      <td>41.90</td>\n",
       "      <td>1.000000</td>\n",
       "      <td>0.666667</td>\n",
       "      <td>0.751704</td>\n",
       "    </tr>\n",
       "  </tbody>\n",
       "</table>\n",
       "<p>100 rows × 6 columns</p>\n",
       "</div>"
      ],
      "text/plain": [
       "    avg rainfall(x1)  elevation (x2)  flood risk (y)  normalized_x1  \\\n",
       "0                0.1              42           20.92       0.000000   \n",
       "1                0.2              49           30.44       0.010101   \n",
       "2                0.3              20            9.96       0.020202   \n",
       "3                0.4              66           36.98       0.030303   \n",
       "4                0.5               2            0.00       0.040404   \n",
       "..               ...             ...             ...            ...   \n",
       "95               9.6              60           37.82       0.959596   \n",
       "96               9.7              11            6.34       0.969697   \n",
       "97               9.8              38           20.86       0.979798   \n",
       "98               9.9              80           45.88       0.989899   \n",
       "99              10.0              66           41.90       1.000000   \n",
       "\n",
       "    normalized_x2  normalized_y  \n",
       "0        0.424242      0.375314  \n",
       "1        0.494949      0.546107  \n",
       "2        0.202020      0.178687  \n",
       "3        0.666667      0.663437  \n",
       "4        0.020202      0.000000  \n",
       "..            ...           ...  \n",
       "95       0.606061      0.678507  \n",
       "96       0.111111      0.113742  \n",
       "97       0.383838      0.374238  \n",
       "98       0.808081      0.823107  \n",
       "99       0.666667      0.751704  \n",
       "\n",
       "[100 rows x 6 columns]"
      ]
     },
     "execution_count": 80,
     "metadata": {},
     "output_type": "execute_result"
    }
   ],
   "source": [
    "df"
   ]
  },
  {
   "cell_type": "markdown",
   "metadata": {},
   "source": [
    "## Normalizing the anomaly in data"
   ]
  },
  {
   "cell_type": "code",
   "execution_count": 81,
   "metadata": {},
   "outputs": [
    {
     "data": {
      "text/html": [
       "<div>\n",
       "<style scoped>\n",
       "    .dataframe tbody tr th:only-of-type {\n",
       "        vertical-align: middle;\n",
       "    }\n",
       "\n",
       "    .dataframe tbody tr th {\n",
       "        vertical-align: top;\n",
       "    }\n",
       "\n",
       "    .dataframe thead th {\n",
       "        text-align: right;\n",
       "    }\n",
       "</style>\n",
       "<table border=\"1\" class=\"dataframe\">\n",
       "  <thead>\n",
       "    <tr style=\"text-align: right;\">\n",
       "      <th></th>\n",
       "      <th>avg rainfall(x1)</th>\n",
       "      <th>elevation (x2)</th>\n",
       "      <th>flood risk (y)</th>\n",
       "      <th>normalized_x1</th>\n",
       "      <th>normalized_x2</th>\n",
       "      <th>normalized_y</th>\n",
       "      <th>anom.norm.avg_rain(x1)</th>\n",
       "      <th>anom.norm.ele(x2)</th>\n",
       "      <th>anom.norm.flood(y)</th>\n",
       "    </tr>\n",
       "  </thead>\n",
       "  <tbody>\n",
       "    <tr>\n",
       "      <th>0</th>\n",
       "      <td>0.1</td>\n",
       "      <td>42</td>\n",
       "      <td>20.92</td>\n",
       "      <td>0.000000</td>\n",
       "      <td>0.424242</td>\n",
       "      <td>0.375314</td>\n",
       "      <td>-0.500000</td>\n",
       "      <td>-0.092121</td>\n",
       "      <td>-0.155544</td>\n",
       "    </tr>\n",
       "    <tr>\n",
       "      <th>1</th>\n",
       "      <td>0.2</td>\n",
       "      <td>49</td>\n",
       "      <td>30.44</td>\n",
       "      <td>0.010101</td>\n",
       "      <td>0.494949</td>\n",
       "      <td>0.546107</td>\n",
       "      <td>-0.489899</td>\n",
       "      <td>-0.021414</td>\n",
       "      <td>0.015249</td>\n",
       "    </tr>\n",
       "    <tr>\n",
       "      <th>2</th>\n",
       "      <td>0.3</td>\n",
       "      <td>20</td>\n",
       "      <td>9.96</td>\n",
       "      <td>0.020202</td>\n",
       "      <td>0.202020</td>\n",
       "      <td>0.178687</td>\n",
       "      <td>-0.479798</td>\n",
       "      <td>-0.314343</td>\n",
       "      <td>-0.352171</td>\n",
       "    </tr>\n",
       "    <tr>\n",
       "      <th>3</th>\n",
       "      <td>0.4</td>\n",
       "      <td>66</td>\n",
       "      <td>36.98</td>\n",
       "      <td>0.030303</td>\n",
       "      <td>0.666667</td>\n",
       "      <td>0.663437</td>\n",
       "      <td>-0.469697</td>\n",
       "      <td>0.150303</td>\n",
       "      <td>0.132580</td>\n",
       "    </tr>\n",
       "    <tr>\n",
       "      <th>4</th>\n",
       "      <td>0.5</td>\n",
       "      <td>2</td>\n",
       "      <td>0.00</td>\n",
       "      <td>0.040404</td>\n",
       "      <td>0.020202</td>\n",
       "      <td>0.000000</td>\n",
       "      <td>-0.459596</td>\n",
       "      <td>-0.496162</td>\n",
       "      <td>-0.530858</td>\n",
       "    </tr>\n",
       "    <tr>\n",
       "      <th>...</th>\n",
       "      <td>...</td>\n",
       "      <td>...</td>\n",
       "      <td>...</td>\n",
       "      <td>...</td>\n",
       "      <td>...</td>\n",
       "      <td>...</td>\n",
       "      <td>...</td>\n",
       "      <td>...</td>\n",
       "      <td>...</td>\n",
       "    </tr>\n",
       "    <tr>\n",
       "      <th>95</th>\n",
       "      <td>9.6</td>\n",
       "      <td>60</td>\n",
       "      <td>37.82</td>\n",
       "      <td>0.959596</td>\n",
       "      <td>0.606061</td>\n",
       "      <td>0.678507</td>\n",
       "      <td>0.459596</td>\n",
       "      <td>0.089697</td>\n",
       "      <td>0.147650</td>\n",
       "    </tr>\n",
       "    <tr>\n",
       "      <th>96</th>\n",
       "      <td>9.7</td>\n",
       "      <td>11</td>\n",
       "      <td>6.34</td>\n",
       "      <td>0.969697</td>\n",
       "      <td>0.111111</td>\n",
       "      <td>0.113742</td>\n",
       "      <td>0.469697</td>\n",
       "      <td>-0.405253</td>\n",
       "      <td>-0.417115</td>\n",
       "    </tr>\n",
       "    <tr>\n",
       "      <th>97</th>\n",
       "      <td>9.8</td>\n",
       "      <td>38</td>\n",
       "      <td>20.86</td>\n",
       "      <td>0.979798</td>\n",
       "      <td>0.383838</td>\n",
       "      <td>0.374238</td>\n",
       "      <td>0.479798</td>\n",
       "      <td>-0.132525</td>\n",
       "      <td>-0.156620</td>\n",
       "    </tr>\n",
       "    <tr>\n",
       "      <th>98</th>\n",
       "      <td>9.9</td>\n",
       "      <td>80</td>\n",
       "      <td>45.88</td>\n",
       "      <td>0.989899</td>\n",
       "      <td>0.808081</td>\n",
       "      <td>0.823107</td>\n",
       "      <td>0.489899</td>\n",
       "      <td>0.291717</td>\n",
       "      <td>0.292250</td>\n",
       "    </tr>\n",
       "    <tr>\n",
       "      <th>99</th>\n",
       "      <td>10.0</td>\n",
       "      <td>66</td>\n",
       "      <td>41.90</td>\n",
       "      <td>1.000000</td>\n",
       "      <td>0.666667</td>\n",
       "      <td>0.751704</td>\n",
       "      <td>0.500000</td>\n",
       "      <td>0.150303</td>\n",
       "      <td>0.220847</td>\n",
       "    </tr>\n",
       "  </tbody>\n",
       "</table>\n",
       "<p>100 rows × 9 columns</p>\n",
       "</div>"
      ],
      "text/plain": [
       "    avg rainfall(x1)  elevation (x2)  flood risk (y)  normalized_x1  \\\n",
       "0                0.1              42           20.92       0.000000   \n",
       "1                0.2              49           30.44       0.010101   \n",
       "2                0.3              20            9.96       0.020202   \n",
       "3                0.4              66           36.98       0.030303   \n",
       "4                0.5               2            0.00       0.040404   \n",
       "..               ...             ...             ...            ...   \n",
       "95               9.6              60           37.82       0.959596   \n",
       "96               9.7              11            6.34       0.969697   \n",
       "97               9.8              38           20.86       0.979798   \n",
       "98               9.9              80           45.88       0.989899   \n",
       "99              10.0              66           41.90       1.000000   \n",
       "\n",
       "    normalized_x2  normalized_y  anom.norm.avg_rain(x1)  anom.norm.ele(x2)  \\\n",
       "0        0.424242      0.375314               -0.500000          -0.092121   \n",
       "1        0.494949      0.546107               -0.489899          -0.021414   \n",
       "2        0.202020      0.178687               -0.479798          -0.314343   \n",
       "3        0.666667      0.663437               -0.469697           0.150303   \n",
       "4        0.020202      0.000000               -0.459596          -0.496162   \n",
       "..            ...           ...                     ...                ...   \n",
       "95       0.606061      0.678507                0.459596           0.089697   \n",
       "96       0.111111      0.113742                0.469697          -0.405253   \n",
       "97       0.383838      0.374238                0.479798          -0.132525   \n",
       "98       0.808081      0.823107                0.489899           0.291717   \n",
       "99       0.666667      0.751704                0.500000           0.150303   \n",
       "\n",
       "    anom.norm.flood(y)  \n",
       "0            -0.155544  \n",
       "1             0.015249  \n",
       "2            -0.352171  \n",
       "3             0.132580  \n",
       "4            -0.530858  \n",
       "..                 ...  \n",
       "95            0.147650  \n",
       "96           -0.417115  \n",
       "97           -0.156620  \n",
       "98            0.292250  \n",
       "99            0.220847  \n",
       "\n",
       "[100 rows x 9 columns]"
      ]
     },
     "execution_count": 81,
     "metadata": {},
     "output_type": "execute_result"
    }
   ],
   "source": [
    "df['anom.norm.avg_rain(x1)'] = df['normalized_x1'] - df['normalized_x1'].mean()\n",
    "df['anom.norm.ele(x2)'] = df['normalized_x2'] - df['normalized_x2'].mean()\n",
    "df['anom.norm.flood(y)'] = df['normalized_y'] - df['normalized_y'].mean()\n",
    "df"
   ]
  },
  {
   "cell_type": "code",
   "execution_count": 175,
   "metadata": {},
   "outputs": [
    {
     "name": "stderr",
     "output_type": "stream",
     "text": [
      "C:\\Users\\vinee\\miniconda3\\lib\\site-packages\\seaborn\\_decorators.py:36: FutureWarning: Pass the following variables as keyword args: x, y. From version 0.12, the only valid positional argument will be `data`, and passing other arguments without an explicit keyword will result in an error or misinterpretation.\n",
      "  warnings.warn(\n"
     ]
    },
    {
     "data": {
      "text/plain": [
       "<AxesSubplot:xlabel='anom.norm.avg_rain(x1)', ylabel='anom.norm.flood(y)'>"
      ]
     },
     "execution_count": 175,
     "metadata": {},
     "output_type": "execute_result"
    },
    {
     "data": {
      "image/png": "[encoded data removed]",
      "text/plain": [
       "<Figure size 432x288 with 1 Axes>"
      ]
     },
     "metadata": {
      "needs_background": "light"
     },
     "output_type": "display_data"
    }
   ],
   "source": [
    "sns.regplot(df['anom.norm.avg_rain(x1)'], df['anom.norm.flood(y)'], color='orange')"
   ]
  },
  {
   "cell_type": "code",
   "execution_count": 176,
   "metadata": {},
   "outputs": [
    {
     "name": "stderr",
     "output_type": "stream",
     "text": [
      "C:\\Users\\vinee\\miniconda3\\lib\\site-packages\\seaborn\\_decorators.py:36: FutureWarning: Pass the following variables as keyword args: x, y. From version 0.12, the only valid positional argument will be `data`, and passing other arguments without an explicit keyword will result in an error or misinterpretation.\n",
      "  warnings.warn(\n"
     ]
    },
    {
     "data": {
      "text/plain": [
       "<AxesSubplot:xlabel='anom.norm.ele(x2)', ylabel='anom.norm.flood(y)'>"
      ]
     },
     "execution_count": 176,
     "metadata": {},
     "output_type": "execute_result"
    },
    {
     "data": {
      "image/png": "[encoded data removed]",
      "text/plain": [
       "<Figure size 432x288 with 1 Axes>"
      ]
     },
     "metadata": {
      "needs_background": "light"
     },
     "output_type": "display_data"
    }
   ],
   "source": [
    "sns.regplot(df['anom.norm.ele(x2)'], df['anom.norm.flood(y)'], color='orange')"
   ]
  },
  {
   "cell_type": "markdown",
   "metadata": {},
   "source": [
    "## Correlation"
   ]
  },
  {
   "cell_type": "code",
   "execution_count": 82,
   "metadata": {},
   "outputs": [
    {
     "data": {
      "text/html": [
       "<div>\n",
       "<style scoped>\n",
       "    .dataframe tbody tr th:only-of-type {\n",
       "        vertical-align: middle;\n",
       "    }\n",
       "\n",
       "    .dataframe tbody tr th {\n",
       "        vertical-align: top;\n",
       "    }\n",
       "\n",
       "    .dataframe thead th {\n",
       "        text-align: right;\n",
       "    }\n",
       "</style>\n",
       "<table border=\"1\" class=\"dataframe\">\n",
       "  <thead>\n",
       "    <tr style=\"text-align: right;\">\n",
       "      <th></th>\n",
       "      <th>avg rainfall(x1)</th>\n",
       "      <th>elevation (x2)</th>\n",
       "      <th>flood risk (y)</th>\n",
       "      <th>normalized_x1</th>\n",
       "      <th>normalized_x2</th>\n",
       "      <th>normalized_y</th>\n",
       "      <th>anom.norm.avg_rain(x1)</th>\n",
       "      <th>anom.norm.ele(x2)</th>\n",
       "      <th>anom.norm.flood(y)</th>\n",
       "    </tr>\n",
       "  </thead>\n",
       "  <tbody>\n",
       "    <tr>\n",
       "      <th>avg rainfall(x1)</th>\n",
       "      <td>1.000000</td>\n",
       "      <td>0.065063</td>\n",
       "      <td>0.108915</td>\n",
       "      <td>1.000000</td>\n",
       "      <td>0.065063</td>\n",
       "      <td>0.108915</td>\n",
       "      <td>1.000000</td>\n",
       "      <td>0.065063</td>\n",
       "      <td>0.108915</td>\n",
       "    </tr>\n",
       "    <tr>\n",
       "      <th>elevation (x2)</th>\n",
       "      <td>0.065063</td>\n",
       "      <td>1.000000</td>\n",
       "      <td>0.983691</td>\n",
       "      <td>0.065063</td>\n",
       "      <td>1.000000</td>\n",
       "      <td>0.983691</td>\n",
       "      <td>0.065063</td>\n",
       "      <td>1.000000</td>\n",
       "      <td>0.983691</td>\n",
       "    </tr>\n",
       "    <tr>\n",
       "      <th>flood risk (y)</th>\n",
       "      <td>0.108915</td>\n",
       "      <td>0.983691</td>\n",
       "      <td>1.000000</td>\n",
       "      <td>0.108915</td>\n",
       "      <td>0.983691</td>\n",
       "      <td>1.000000</td>\n",
       "      <td>0.108915</td>\n",
       "      <td>0.983691</td>\n",
       "      <td>1.000000</td>\n",
       "    </tr>\n",
       "    <tr>\n",
       "      <th>normalized_x1</th>\n",
       "      <td>1.000000</td>\n",
       "      <td>0.065063</td>\n",
       "      <td>0.108915</td>\n",
       "      <td>1.000000</td>\n",
       "      <td>0.065063</td>\n",
       "      <td>0.108915</td>\n",
       "      <td>1.000000</td>\n",
       "      <td>0.065063</td>\n",
       "      <td>0.108915</td>\n",
       "    </tr>\n",
       "    <tr>\n",
       "      <th>normalized_x2</th>\n",
       "      <td>0.065063</td>\n",
       "      <td>1.000000</td>\n",
       "      <td>0.983691</td>\n",
       "      <td>0.065063</td>\n",
       "      <td>1.000000</td>\n",
       "      <td>0.983691</td>\n",
       "      <td>0.065063</td>\n",
       "      <td>1.000000</td>\n",
       "      <td>0.983691</td>\n",
       "    </tr>\n",
       "    <tr>\n",
       "      <th>normalized_y</th>\n",
       "      <td>0.108915</td>\n",
       "      <td>0.983691</td>\n",
       "      <td>1.000000</td>\n",
       "      <td>0.108915</td>\n",
       "      <td>0.983691</td>\n",
       "      <td>1.000000</td>\n",
       "      <td>0.108915</td>\n",
       "      <td>0.983691</td>\n",
       "      <td>1.000000</td>\n",
       "    </tr>\n",
       "    <tr>\n",
       "      <th>anom.norm.avg_rain(x1)</th>\n",
       "      <td>1.000000</td>\n",
       "      <td>0.065063</td>\n",
       "      <td>0.108915</td>\n",
       "      <td>1.000000</td>\n",
       "      <td>0.065063</td>\n",
       "      <td>0.108915</td>\n",
       "      <td>1.000000</td>\n",
       "      <td>0.065063</td>\n",
       "      <td>0.108915</td>\n",
       "    </tr>\n",
       "    <tr>\n",
       "      <th>anom.norm.ele(x2)</th>\n",
       "      <td>0.065063</td>\n",
       "      <td>1.000000</td>\n",
       "      <td>0.983691</td>\n",
       "      <td>0.065063</td>\n",
       "      <td>1.000000</td>\n",
       "      <td>0.983691</td>\n",
       "      <td>0.065063</td>\n",
       "      <td>1.000000</td>\n",
       "      <td>0.983691</td>\n",
       "    </tr>\n",
       "    <tr>\n",
       "      <th>anom.norm.flood(y)</th>\n",
       "      <td>0.108915</td>\n",
       "      <td>0.983691</td>\n",
       "      <td>1.000000</td>\n",
       "      <td>0.108915</td>\n",
       "      <td>0.983691</td>\n",
       "      <td>1.000000</td>\n",
       "      <td>0.108915</td>\n",
       "      <td>0.983691</td>\n",
       "      <td>1.000000</td>\n",
       "    </tr>\n",
       "  </tbody>\n",
       "</table>\n",
       "</div>"
      ],
      "text/plain": [
       "                        avg rainfall(x1)  elevation (x2)  flood risk (y)  \\\n",
       "avg rainfall(x1)                1.000000        0.065063        0.108915   \n",
       "elevation (x2)                  0.065063        1.000000        0.983691   \n",
       "flood risk (y)                  0.108915        0.983691        1.000000   \n",
       "normalized_x1                   1.000000        0.065063        0.108915   \n",
       "normalized_x2                   0.065063        1.000000        0.983691   \n",
       "normalized_y                    0.108915        0.983691        1.000000   \n",
       "anom.norm.avg_rain(x1)          1.000000        0.065063        0.108915   \n",
       "anom.norm.ele(x2)               0.065063        1.000000        0.983691   \n",
       "anom.norm.flood(y)              0.108915        0.983691        1.000000   \n",
       "\n",
       "                        normalized_x1  normalized_x2  normalized_y  \\\n",
       "avg rainfall(x1)             1.000000       0.065063      0.108915   \n",
       "elevation (x2)               0.065063       1.000000      0.983691   \n",
       "flood risk (y)               0.108915       0.983691      1.000000   \n",
       "normalized_x1                1.000000       0.065063      0.108915   \n",
       "normalized_x2                0.065063       1.000000      0.983691   \n",
       "normalized_y                 0.108915       0.983691      1.000000   \n",
       "anom.norm.avg_rain(x1)       1.000000       0.065063      0.108915   \n",
       "anom.norm.ele(x2)            0.065063       1.000000      0.983691   \n",
       "anom.norm.flood(y)           0.108915       0.983691      1.000000   \n",
       "\n",
       "                        anom.norm.avg_rain(x1)  anom.norm.ele(x2)  \\\n",
       "avg rainfall(x1)                      1.000000           0.065063   \n",
       "elevation (x2)                        0.065063           1.000000   \n",
       "flood risk (y)                        0.108915           0.983691   \n",
       "normalized_x1                         1.000000           0.065063   \n",
       "normalized_x2                         0.065063           1.000000   \n",
       "normalized_y                          0.108915           0.983691   \n",
       "anom.norm.avg_rain(x1)                1.000000           0.065063   \n",
       "anom.norm.ele(x2)                     0.065063           1.000000   \n",
       "anom.norm.flood(y)                    0.108915           0.983691   \n",
       "\n",
       "                        anom.norm.flood(y)  \n",
       "avg rainfall(x1)                  0.108915  \n",
       "elevation (x2)                    0.983691  \n",
       "flood risk (y)                    1.000000  \n",
       "normalized_x1                     0.108915  \n",
       "normalized_x2                     0.983691  \n",
       "normalized_y                      1.000000  \n",
       "anom.norm.avg_rain(x1)            0.108915  \n",
       "anom.norm.ele(x2)                 0.983691  \n",
       "anom.norm.flood(y)                1.000000  "
      ]
     },
     "execution_count": 82,
     "metadata": {},
     "output_type": "execute_result"
    }
   ],
   "source": [
    "df.corr(method='pearson')"
   ]
  },
  {
   "cell_type": "code",
   "execution_count": 170,
   "metadata": {},
   "outputs": [
    {
     "data": {
      "image/png": "[encoded data removed]",
      "text/plain": [
       "<Figure size 432x288 with 1 Axes>"
      ]
     },
     "metadata": {
      "needs_background": "light"
     },
     "output_type": "display_data"
    }
   ],
   "source": [
    "import matplotlib.pyplot as plt\n",
    "\n",
    "plt.scatter(df['anom.norm.avg_rain(x1)'], df['anom.norm.flood(y)'], color='red')\n",
    "plt.xlabel('Avg rainfall')\n",
    "plt.ylabel('flood risk')\n",
    "plt.title('Relation between the avg rainfall and flood risk');"
   ]
  },
  {
   "cell_type": "markdown",
   "metadata": {},
   "source": [
    "## WEak correlation"
   ]
  },
  {
   "cell_type": "code",
   "execution_count": 171,
   "metadata": {},
   "outputs": [
    {
     "data": {
      "image/png": "[encoded data removed]",
      "text/plain": [
       "<Figure size 432x288 with 1 Axes>"
      ]
     },
     "metadata": {
      "needs_background": "light"
     },
     "output_type": "display_data"
    }
   ],
   "source": [
    "plt.scatter(df['anom.norm.ele(x2)'], df['anom.norm.flood(y)'], color = 'red')\n",
    "plt.xlabel('elevation')\n",
    "plt.ylabel('flood risk')\n",
    "plt.title('Relationship between the elevation and flood risk');"
   ]
  },
  {
   "cell_type": "markdown",
   "metadata": {},
   "source": [
    "## HIghly correlated"
   ]
  },
  {
   "cell_type": "code",
   "execution_count": 138,
   "metadata": {},
   "outputs": [
    {
     "name": "stderr",
     "output_type": "stream",
     "text": [
      "C:\\Users\\vinee\\miniconda3\\lib\\site-packages\\seaborn\\_decorators.py:36: FutureWarning: Pass the following variables as keyword args: x, y. From version 0.12, the only valid positional argument will be `data`, and passing other arguments without an explicit keyword will result in an error or misinterpretation.\n",
      "  warnings.warn(\n"
     ]
    },
    {
     "data": {
      "text/plain": [
       "<AxesSubplot:xlabel='anom.norm.avg_rain(x1)', ylabel='anom.norm.flood(y)'>"
      ]
     },
     "execution_count": 138,
     "metadata": {},
     "output_type": "execute_result"
    },
    {
     "data": {
      "image/png": "[encoded data removed]",
      "text/plain": [
       "<Figure size 432x288 with 1 Axes>"
      ]
     },
     "metadata": {
      "needs_background": "light"
     },
     "output_type": "display_data"
    }
   ],
   "source": [
    "import seaborn as sns\n",
    "\n",
    "sns.regplot(df['anom.norm.avg_rain(x1)'], df['anom.norm.flood(y)'])\n"
   ]
  },
  {
   "cell_type": "code",
   "execution_count": 137,
   "metadata": {},
   "outputs": [
    {
     "name": "stderr",
     "output_type": "stream",
     "text": [
      "C:\\Users\\vinee\\miniconda3\\lib\\site-packages\\seaborn\\_decorators.py:36: FutureWarning: Pass the following variables as keyword args: x, y. From version 0.12, the only valid positional argument will be `data`, and passing other arguments without an explicit keyword will result in an error or misinterpretation.\n",
      "  warnings.warn(\n"
     ]
    },
    {
     "data": {
      "text/plain": [
       "<AxesSubplot:xlabel='anom.norm.ele(x2)', ylabel='anom.norm.flood(y)'>"
      ]
     },
     "execution_count": 137,
     "metadata": {},
     "output_type": "execute_result"
    },
    {
     "data": {
      "image/png": "[encoded data removed]",
      "text/plain": [
       "<Figure size 432x288 with 1 Axes>"
      ]
     },
     "metadata": {
      "needs_background": "light"
     },
     "output_type": "display_data"
    }
   ],
   "source": [
    "sns.regplot(df['anom.norm.ele(x2)'], df['anom.norm.flood(y)'])"
   ]
  },
  {
   "cell_type": "code",
   "execution_count": 187,
   "metadata": {},
   "outputs": [
    {
     "name": "stderr",
     "output_type": "stream",
     "text": [
      "C:\\Users\\vinee\\miniconda3\\lib\\site-packages\\seaborn\\_decorators.py:36: FutureWarning: Pass the following variables as keyword args: x, y. From version 0.12, the only valid positional argument will be `data`, and passing other arguments without an explicit keyword will result in an error or misinterpretation.\n",
      "  warnings.warn(\n"
     ]
    },
    {
     "data": {
      "image/png": "[encoded data removed]",
      "text/plain": [
       "<Figure size 432x432 with 3 Axes>"
      ]
     },
     "metadata": {
      "needs_background": "light"
     },
     "output_type": "display_data"
    }
   ],
   "source": [
    "# Using the jointplot() function in the seaborn library for printing the \n",
    "# jointplot between the area-income and the age columns of the advertisement.\n",
    "# the Area Income is plotted on the x-axis and the Age is plotted against it\n",
    "# on the y-axis, and the dataframe to be used is also passed as the 3rd argument\n",
    "# and the color is mentioned as red under the color parameter.\n",
    "\n",
    "# VINEETA GUPTA\n",
    "g = sns.jointplot( df['anom.norm.ele(x2)'],\n",
    "                   df['anom.norm.flood(y)'], \n",
    "                   data=df, \n",
    "                   color='red')\n",
    "\n",
    "# Storing the pearson coefficient and the p-value in the r and p variables\n",
    "# respectively. To do this the stats module has been used from the scipy library.\n",
    "# and the pearsonr() is used to compute the pearson's coefficient between Area\n",
    "# Income and the Age.\n",
    "from scipy import  stats\n",
    "r,p=stats.pearsonr( df['anom.norm.flood(y)'], df['anom.norm.ele(x2)'])\n",
    "\n",
    "# Annoting the graph with the coefficient and p-value by using this function.\n",
    "# It is done by manually printing the r and p from above.\n",
    "# And specifying the coordinate position in the xy parameter to position r and p\n",
    "# in the graph at a specific position. \n",
    "\n",
    "g.ax_joint.annotate(f'$r = {r:.3f}, p = {p:}$',\n",
    "                    xy=(0.1, 0.9), xycoords='axes fraction',\n",
    "                    ha='left', va='center',\n",
    "                    bbox={'boxstyle': 'round', 'fc': 'white', 'ec': 'red'})\n",
    "\n",
    "plt.tight_layout()\n",
    "plt.title('Relationship between Anomaly normalized elevation and flood risk')\n",
    "plt.show()"
   ]
  },
  {
   "cell_type": "code",
   "execution_count": 191,
   "metadata": {},
   "outputs": [
    {
     "name": "stderr",
     "output_type": "stream",
     "text": [
      "C:\\Users\\vinee\\miniconda3\\lib\\site-packages\\seaborn\\_decorators.py:36: FutureWarning: Pass the following variables as keyword args: x, y. From version 0.12, the only valid positional argument will be `data`, and passing other arguments without an explicit keyword will result in an error or misinterpretation.\n",
      "  warnings.warn(\n"
     ]
    },
    {
     "data": {
      "image/png": "[encoded data removed]",
      "text/plain": [
       "<Figure size 432x432 with 3 Axes>"
      ]
     },
     "metadata": {
      "needs_background": "light"
     },
     "output_type": "display_data"
    }
   ],
   "source": [
    "g = sns.jointplot( df['anom.norm.avg_rain(x1)'],\n",
    "                   df['anom.norm.flood(y)'], \n",
    "                   data=df, \n",
    "                   color='red')\n",
    "\n",
    "# Storing the pearson coefficient and the p-value in the r and p variables\n",
    "# respectively. To do this the stats module has been used from the scipy library.\n",
    "# and the pearsonr() is used to compute the pearson's coefficient between Area\n",
    "# Income and the Age.\n",
    "from scipy import  stats\n",
    "\n",
    "r,p=stats.pearsonr( df['anom.norm.avg_rain(x1)'],\n",
    "                   df['anom.norm.flood(y)'])\n",
    "\n",
    "# Annoting the graph with the coefficient and p-value by using this function.\n",
    "# It is done by manually printing the r and p from above.\n",
    "# And specifying the coordinate position in the xy parameter to position r and p\n",
    "# in the graph at a specific position. \n",
    "\n",
    "g.ax_joint.annotate(f'$r = {r:.3f}, p = {p:}$',\n",
    "                    xy=(0.1, 0.9), xycoords='axes fraction',\n",
    "                    ha='left', va='center',\n",
    "                    bbox={'boxstyle': 'round', 'fc': 'white', 'ec': 'red'})\n",
    "\n",
    "plt.tight_layout()\n",
    "plt.title(\"Relationship between Normalized anomaly flood risk and average rain\", size=15)\n",
    "plt.show()"
   ]
  },
  {
   "cell_type": "markdown",
   "metadata": {},
   "source": [
    "## Calculating the parameters for regression line "
   ]
  },
  {
   "cell_type": "code",
   "execution_count": 85,
   "metadata": {},
   "outputs": [
    {
     "data": {
      "text/html": [
       "<div>\n",
       "<style scoped>\n",
       "    .dataframe tbody tr th:only-of-type {\n",
       "        vertical-align: middle;\n",
       "    }\n",
       "\n",
       "    .dataframe tbody tr th {\n",
       "        vertical-align: top;\n",
       "    }\n",
       "\n",
       "    .dataframe thead th {\n",
       "        text-align: right;\n",
       "    }\n",
       "</style>\n",
       "<table border=\"1\" class=\"dataframe\">\n",
       "  <thead>\n",
       "    <tr style=\"text-align: right;\">\n",
       "      <th></th>\n",
       "      <th>avg rainfall(x1)</th>\n",
       "      <th>elevation (x2)</th>\n",
       "      <th>flood risk (y)</th>\n",
       "      <th>normalized_x1</th>\n",
       "      <th>normalized_x2</th>\n",
       "      <th>normalized_y</th>\n",
       "      <th>anom.norm.avg_rain(x1)</th>\n",
       "      <th>anom.norm.ele(x2)</th>\n",
       "      <th>anom.norm.flood(y)</th>\n",
       "      <th>yX1</th>\n",
       "    </tr>\n",
       "  </thead>\n",
       "  <tbody>\n",
       "    <tr>\n",
       "      <th>0</th>\n",
       "      <td>0.1</td>\n",
       "      <td>42</td>\n",
       "      <td>20.92</td>\n",
       "      <td>0.000000</td>\n",
       "      <td>0.424242</td>\n",
       "      <td>0.375314</td>\n",
       "      <td>-0.500000</td>\n",
       "      <td>-0.092121</td>\n",
       "      <td>-0.155544</td>\n",
       "      <td>0.077772</td>\n",
       "    </tr>\n",
       "    <tr>\n",
       "      <th>1</th>\n",
       "      <td>0.2</td>\n",
       "      <td>49</td>\n",
       "      <td>30.44</td>\n",
       "      <td>0.010101</td>\n",
       "      <td>0.494949</td>\n",
       "      <td>0.546107</td>\n",
       "      <td>-0.489899</td>\n",
       "      <td>-0.021414</td>\n",
       "      <td>0.015249</td>\n",
       "      <td>-0.007471</td>\n",
       "    </tr>\n",
       "    <tr>\n",
       "      <th>2</th>\n",
       "      <td>0.3</td>\n",
       "      <td>20</td>\n",
       "      <td>9.96</td>\n",
       "      <td>0.020202</td>\n",
       "      <td>0.202020</td>\n",
       "      <td>0.178687</td>\n",
       "      <td>-0.479798</td>\n",
       "      <td>-0.314343</td>\n",
       "      <td>-0.352171</td>\n",
       "      <td>0.168971</td>\n",
       "    </tr>\n",
       "    <tr>\n",
       "      <th>3</th>\n",
       "      <td>0.4</td>\n",
       "      <td>66</td>\n",
       "      <td>36.98</td>\n",
       "      <td>0.030303</td>\n",
       "      <td>0.666667</td>\n",
       "      <td>0.663437</td>\n",
       "      <td>-0.469697</td>\n",
       "      <td>0.150303</td>\n",
       "      <td>0.132580</td>\n",
       "      <td>-0.062272</td>\n",
       "    </tr>\n",
       "    <tr>\n",
       "      <th>4</th>\n",
       "      <td>0.5</td>\n",
       "      <td>2</td>\n",
       "      <td>0.00</td>\n",
       "      <td>0.040404</td>\n",
       "      <td>0.020202</td>\n",
       "      <td>0.000000</td>\n",
       "      <td>-0.459596</td>\n",
       "      <td>-0.496162</td>\n",
       "      <td>-0.530858</td>\n",
       "      <td>0.243980</td>\n",
       "    </tr>\n",
       "  </tbody>\n",
       "</table>\n",
       "</div>"
      ],
      "text/plain": [
       "   avg rainfall(x1)  elevation (x2)  flood risk (y)  normalized_x1  \\\n",
       "0               0.1              42           20.92       0.000000   \n",
       "1               0.2              49           30.44       0.010101   \n",
       "2               0.3              20            9.96       0.020202   \n",
       "3               0.4              66           36.98       0.030303   \n",
       "4               0.5               2            0.00       0.040404   \n",
       "\n",
       "   normalized_x2  normalized_y  anom.norm.avg_rain(x1)  anom.norm.ele(x2)  \\\n",
       "0       0.424242      0.375314               -0.500000          -0.092121   \n",
       "1       0.494949      0.546107               -0.489899          -0.021414   \n",
       "2       0.202020      0.178687               -0.479798          -0.314343   \n",
       "3       0.666667      0.663437               -0.469697           0.150303   \n",
       "4       0.020202      0.000000               -0.459596          -0.496162   \n",
       "\n",
       "   anom.norm.flood(y)       yX1  \n",
       "0           -0.155544  0.077772  \n",
       "1            0.015249 -0.007471  \n",
       "2           -0.352171  0.168971  \n",
       "3            0.132580 -0.062272  \n",
       "4           -0.530858  0.243980  "
      ]
     },
     "execution_count": 85,
     "metadata": {},
     "output_type": "execute_result"
    }
   ],
   "source": [
    "yX1 = df['anom.norm.avg_rain(x1)']*df['anom.norm.flood(y)']\n",
    "#df.append(yX1, ignore_index=True)\n",
    "df['yX1'] = yX1\n",
    "df.head()"
   ]
  },
  {
   "cell_type": "code",
   "execution_count": 86,
   "metadata": {},
   "outputs": [
    {
     "data": {
      "text/html": [
       "<div>\n",
       "<style scoped>\n",
       "    .dataframe tbody tr th:only-of-type {\n",
       "        vertical-align: middle;\n",
       "    }\n",
       "\n",
       "    .dataframe tbody tr th {\n",
       "        vertical-align: top;\n",
       "    }\n",
       "\n",
       "    .dataframe thead th {\n",
       "        text-align: right;\n",
       "    }\n",
       "</style>\n",
       "<table border=\"1\" class=\"dataframe\">\n",
       "  <thead>\n",
       "    <tr style=\"text-align: right;\">\n",
       "      <th></th>\n",
       "      <th>avg rainfall(x1)</th>\n",
       "      <th>elevation (x2)</th>\n",
       "      <th>flood risk (y)</th>\n",
       "      <th>normalized_x1</th>\n",
       "      <th>normalized_x2</th>\n",
       "      <th>normalized_y</th>\n",
       "      <th>anom.norm.avg_rain(x1)</th>\n",
       "      <th>anom.norm.ele(x2)</th>\n",
       "      <th>anom.norm.flood(y)</th>\n",
       "      <th>yX1</th>\n",
       "      <th>yX2</th>\n",
       "    </tr>\n",
       "  </thead>\n",
       "  <tbody>\n",
       "    <tr>\n",
       "      <th>0</th>\n",
       "      <td>0.1</td>\n",
       "      <td>42</td>\n",
       "      <td>20.92</td>\n",
       "      <td>0.000000</td>\n",
       "      <td>0.424242</td>\n",
       "      <td>0.375314</td>\n",
       "      <td>-0.500000</td>\n",
       "      <td>-0.092121</td>\n",
       "      <td>-0.155544</td>\n",
       "      <td>0.077772</td>\n",
       "      <td>0.014329</td>\n",
       "    </tr>\n",
       "    <tr>\n",
       "      <th>1</th>\n",
       "      <td>0.2</td>\n",
       "      <td>49</td>\n",
       "      <td>30.44</td>\n",
       "      <td>0.010101</td>\n",
       "      <td>0.494949</td>\n",
       "      <td>0.546107</td>\n",
       "      <td>-0.489899</td>\n",
       "      <td>-0.021414</td>\n",
       "      <td>0.015249</td>\n",
       "      <td>-0.007471</td>\n",
       "      <td>-0.000327</td>\n",
       "    </tr>\n",
       "    <tr>\n",
       "      <th>2</th>\n",
       "      <td>0.3</td>\n",
       "      <td>20</td>\n",
       "      <td>9.96</td>\n",
       "      <td>0.020202</td>\n",
       "      <td>0.202020</td>\n",
       "      <td>0.178687</td>\n",
       "      <td>-0.479798</td>\n",
       "      <td>-0.314343</td>\n",
       "      <td>-0.352171</td>\n",
       "      <td>0.168971</td>\n",
       "      <td>0.110703</td>\n",
       "    </tr>\n",
       "    <tr>\n",
       "      <th>3</th>\n",
       "      <td>0.4</td>\n",
       "      <td>66</td>\n",
       "      <td>36.98</td>\n",
       "      <td>0.030303</td>\n",
       "      <td>0.666667</td>\n",
       "      <td>0.663437</td>\n",
       "      <td>-0.469697</td>\n",
       "      <td>0.150303</td>\n",
       "      <td>0.132580</td>\n",
       "      <td>-0.062272</td>\n",
       "      <td>0.019927</td>\n",
       "    </tr>\n",
       "    <tr>\n",
       "      <th>4</th>\n",
       "      <td>0.5</td>\n",
       "      <td>2</td>\n",
       "      <td>0.00</td>\n",
       "      <td>0.040404</td>\n",
       "      <td>0.020202</td>\n",
       "      <td>0.000000</td>\n",
       "      <td>-0.459596</td>\n",
       "      <td>-0.496162</td>\n",
       "      <td>-0.530858</td>\n",
       "      <td>0.243980</td>\n",
       "      <td>0.263391</td>\n",
       "    </tr>\n",
       "  </tbody>\n",
       "</table>\n",
       "</div>"
      ],
      "text/plain": [
       "   avg rainfall(x1)  elevation (x2)  flood risk (y)  normalized_x1  \\\n",
       "0               0.1              42           20.92       0.000000   \n",
       "1               0.2              49           30.44       0.010101   \n",
       "2               0.3              20            9.96       0.020202   \n",
       "3               0.4              66           36.98       0.030303   \n",
       "4               0.5               2            0.00       0.040404   \n",
       "\n",
       "   normalized_x2  normalized_y  anom.norm.avg_rain(x1)  anom.norm.ele(x2)  \\\n",
       "0       0.424242      0.375314               -0.500000          -0.092121   \n",
       "1       0.494949      0.546107               -0.489899          -0.021414   \n",
       "2       0.202020      0.178687               -0.479798          -0.314343   \n",
       "3       0.666667      0.663437               -0.469697           0.150303   \n",
       "4       0.020202      0.000000               -0.459596          -0.496162   \n",
       "\n",
       "   anom.norm.flood(y)       yX1       yX2  \n",
       "0           -0.155544  0.077772  0.014329  \n",
       "1            0.015249 -0.007471 -0.000327  \n",
       "2           -0.352171  0.168971  0.110703  \n",
       "3            0.132580 -0.062272  0.019927  \n",
       "4           -0.530858  0.243980  0.263391  "
      ]
     },
     "execution_count": 86,
     "metadata": {},
     "output_type": "execute_result"
    }
   ],
   "source": [
    "yX2 = df['anom.norm.ele(x2)']*df['anom.norm.flood(y)']\n",
    "df['yX2'] = yX2\n",
    "df.head()"
   ]
  },
  {
   "cell_type": "code",
   "execution_count": 87,
   "metadata": {},
   "outputs": [
    {
     "data": {
      "text/html": [
       "<div>\n",
       "<style scoped>\n",
       "    .dataframe tbody tr th:only-of-type {\n",
       "        vertical-align: middle;\n",
       "    }\n",
       "\n",
       "    .dataframe tbody tr th {\n",
       "        vertical-align: top;\n",
       "    }\n",
       "\n",
       "    .dataframe thead th {\n",
       "        text-align: right;\n",
       "    }\n",
       "</style>\n",
       "<table border=\"1\" class=\"dataframe\">\n",
       "  <thead>\n",
       "    <tr style=\"text-align: right;\">\n",
       "      <th></th>\n",
       "      <th>avg rainfall(x1)</th>\n",
       "      <th>elevation (x2)</th>\n",
       "      <th>flood risk (y)</th>\n",
       "      <th>normalized_x1</th>\n",
       "      <th>normalized_x2</th>\n",
       "      <th>normalized_y</th>\n",
       "      <th>anom.norm.avg_rain(x1)</th>\n",
       "      <th>anom.norm.ele(x2)</th>\n",
       "      <th>anom.norm.flood(y)</th>\n",
       "      <th>yX1</th>\n",
       "      <th>yX2</th>\n",
       "      <th>X1X2</th>\n",
       "    </tr>\n",
       "  </thead>\n",
       "  <tbody>\n",
       "    <tr>\n",
       "      <th>0</th>\n",
       "      <td>0.1</td>\n",
       "      <td>42</td>\n",
       "      <td>20.92</td>\n",
       "      <td>0.000000</td>\n",
       "      <td>0.424242</td>\n",
       "      <td>0.375314</td>\n",
       "      <td>-0.500000</td>\n",
       "      <td>-0.092121</td>\n",
       "      <td>-0.155544</td>\n",
       "      <td>0.077772</td>\n",
       "      <td>0.014329</td>\n",
       "      <td>0.046061</td>\n",
       "    </tr>\n",
       "    <tr>\n",
       "      <th>1</th>\n",
       "      <td>0.2</td>\n",
       "      <td>49</td>\n",
       "      <td>30.44</td>\n",
       "      <td>0.010101</td>\n",
       "      <td>0.494949</td>\n",
       "      <td>0.546107</td>\n",
       "      <td>-0.489899</td>\n",
       "      <td>-0.021414</td>\n",
       "      <td>0.015249</td>\n",
       "      <td>-0.007471</td>\n",
       "      <td>-0.000327</td>\n",
       "      <td>0.010491</td>\n",
       "    </tr>\n",
       "    <tr>\n",
       "      <th>2</th>\n",
       "      <td>0.3</td>\n",
       "      <td>20</td>\n",
       "      <td>9.96</td>\n",
       "      <td>0.020202</td>\n",
       "      <td>0.202020</td>\n",
       "      <td>0.178687</td>\n",
       "      <td>-0.479798</td>\n",
       "      <td>-0.314343</td>\n",
       "      <td>-0.352171</td>\n",
       "      <td>0.168971</td>\n",
       "      <td>0.110703</td>\n",
       "      <td>0.150821</td>\n",
       "    </tr>\n",
       "    <tr>\n",
       "      <th>3</th>\n",
       "      <td>0.4</td>\n",
       "      <td>66</td>\n",
       "      <td>36.98</td>\n",
       "      <td>0.030303</td>\n",
       "      <td>0.666667</td>\n",
       "      <td>0.663437</td>\n",
       "      <td>-0.469697</td>\n",
       "      <td>0.150303</td>\n",
       "      <td>0.132580</td>\n",
       "      <td>-0.062272</td>\n",
       "      <td>0.019927</td>\n",
       "      <td>-0.070597</td>\n",
       "    </tr>\n",
       "    <tr>\n",
       "      <th>4</th>\n",
       "      <td>0.5</td>\n",
       "      <td>2</td>\n",
       "      <td>0.00</td>\n",
       "      <td>0.040404</td>\n",
       "      <td>0.020202</td>\n",
       "      <td>0.000000</td>\n",
       "      <td>-0.459596</td>\n",
       "      <td>-0.496162</td>\n",
       "      <td>-0.530858</td>\n",
       "      <td>0.243980</td>\n",
       "      <td>0.263391</td>\n",
       "      <td>0.228034</td>\n",
       "    </tr>\n",
       "  </tbody>\n",
       "</table>\n",
       "</div>"
      ],
      "text/plain": [
       "   avg rainfall(x1)  elevation (x2)  flood risk (y)  normalized_x1  \\\n",
       "0               0.1              42           20.92       0.000000   \n",
       "1               0.2              49           30.44       0.010101   \n",
       "2               0.3              20            9.96       0.020202   \n",
       "3               0.4              66           36.98       0.030303   \n",
       "4               0.5               2            0.00       0.040404   \n",
       "\n",
       "   normalized_x2  normalized_y  anom.norm.avg_rain(x1)  anom.norm.ele(x2)  \\\n",
       "0       0.424242      0.375314               -0.500000          -0.092121   \n",
       "1       0.494949      0.546107               -0.489899          -0.021414   \n",
       "2       0.202020      0.178687               -0.479798          -0.314343   \n",
       "3       0.666667      0.663437               -0.469697           0.150303   \n",
       "4       0.020202      0.000000               -0.459596          -0.496162   \n",
       "\n",
       "   anom.norm.flood(y)       yX1       yX2      X1X2  \n",
       "0           -0.155544  0.077772  0.014329  0.046061  \n",
       "1            0.015249 -0.007471 -0.000327  0.010491  \n",
       "2           -0.352171  0.168971  0.110703  0.150821  \n",
       "3            0.132580 -0.062272  0.019927 -0.070597  \n",
       "4           -0.530858  0.243980  0.263391  0.228034  "
      ]
     },
     "execution_count": 87,
     "metadata": {},
     "output_type": "execute_result"
    }
   ],
   "source": [
    "X1X2 = df['anom.norm.avg_rain(x1)']*df['anom.norm.ele(x2)']\n",
    "df['X1X2'] = X1X2\n",
    "df.head()"
   ]
  },
  {
   "cell_type": "code",
   "execution_count": 88,
   "metadata": {},
   "outputs": [
    {
     "data": {
      "text/html": [
       "<div>\n",
       "<style scoped>\n",
       "    .dataframe tbody tr th:only-of-type {\n",
       "        vertical-align: middle;\n",
       "    }\n",
       "\n",
       "    .dataframe tbody tr th {\n",
       "        vertical-align: top;\n",
       "    }\n",
       "\n",
       "    .dataframe thead th {\n",
       "        text-align: right;\n",
       "    }\n",
       "</style>\n",
       "<table border=\"1\" class=\"dataframe\">\n",
       "  <thead>\n",
       "    <tr style=\"text-align: right;\">\n",
       "      <th></th>\n",
       "      <th>avg rainfall(x1)</th>\n",
       "      <th>elevation (x2)</th>\n",
       "      <th>flood risk (y)</th>\n",
       "      <th>normalized_x1</th>\n",
       "      <th>normalized_x2</th>\n",
       "      <th>normalized_y</th>\n",
       "      <th>anom.norm.avg_rain(x1)</th>\n",
       "      <th>anom.norm.ele(x2)</th>\n",
       "      <th>anom.norm.flood(y)</th>\n",
       "      <th>yX1</th>\n",
       "      <th>yX2</th>\n",
       "      <th>X1X2</th>\n",
       "      <th>X1_sq</th>\n",
       "    </tr>\n",
       "  </thead>\n",
       "  <tbody>\n",
       "    <tr>\n",
       "      <th>0</th>\n",
       "      <td>0.1</td>\n",
       "      <td>42</td>\n",
       "      <td>20.92</td>\n",
       "      <td>0.000000</td>\n",
       "      <td>0.424242</td>\n",
       "      <td>0.375314</td>\n",
       "      <td>-0.500000</td>\n",
       "      <td>-0.092121</td>\n",
       "      <td>-0.155544</td>\n",
       "      <td>0.077772</td>\n",
       "      <td>0.014329</td>\n",
       "      <td>0.046061</td>\n",
       "      <td>0.250000</td>\n",
       "    </tr>\n",
       "    <tr>\n",
       "      <th>1</th>\n",
       "      <td>0.2</td>\n",
       "      <td>49</td>\n",
       "      <td>30.44</td>\n",
       "      <td>0.010101</td>\n",
       "      <td>0.494949</td>\n",
       "      <td>0.546107</td>\n",
       "      <td>-0.489899</td>\n",
       "      <td>-0.021414</td>\n",
       "      <td>0.015249</td>\n",
       "      <td>-0.007471</td>\n",
       "      <td>-0.000327</td>\n",
       "      <td>0.010491</td>\n",
       "      <td>0.240001</td>\n",
       "    </tr>\n",
       "    <tr>\n",
       "      <th>2</th>\n",
       "      <td>0.3</td>\n",
       "      <td>20</td>\n",
       "      <td>9.96</td>\n",
       "      <td>0.020202</td>\n",
       "      <td>0.202020</td>\n",
       "      <td>0.178687</td>\n",
       "      <td>-0.479798</td>\n",
       "      <td>-0.314343</td>\n",
       "      <td>-0.352171</td>\n",
       "      <td>0.168971</td>\n",
       "      <td>0.110703</td>\n",
       "      <td>0.150821</td>\n",
       "      <td>0.230206</td>\n",
       "    </tr>\n",
       "    <tr>\n",
       "      <th>3</th>\n",
       "      <td>0.4</td>\n",
       "      <td>66</td>\n",
       "      <td>36.98</td>\n",
       "      <td>0.030303</td>\n",
       "      <td>0.666667</td>\n",
       "      <td>0.663437</td>\n",
       "      <td>-0.469697</td>\n",
       "      <td>0.150303</td>\n",
       "      <td>0.132580</td>\n",
       "      <td>-0.062272</td>\n",
       "      <td>0.019927</td>\n",
       "      <td>-0.070597</td>\n",
       "      <td>0.220615</td>\n",
       "    </tr>\n",
       "    <tr>\n",
       "      <th>4</th>\n",
       "      <td>0.5</td>\n",
       "      <td>2</td>\n",
       "      <td>0.00</td>\n",
       "      <td>0.040404</td>\n",
       "      <td>0.020202</td>\n",
       "      <td>0.000000</td>\n",
       "      <td>-0.459596</td>\n",
       "      <td>-0.496162</td>\n",
       "      <td>-0.530858</td>\n",
       "      <td>0.243980</td>\n",
       "      <td>0.263391</td>\n",
       "      <td>0.228034</td>\n",
       "      <td>0.211228</td>\n",
       "    </tr>\n",
       "  </tbody>\n",
       "</table>\n",
       "</div>"
      ],
      "text/plain": [
       "   avg rainfall(x1)  elevation (x2)  flood risk (y)  normalized_x1  \\\n",
       "0               0.1              42           20.92       0.000000   \n",
       "1               0.2              49           30.44       0.010101   \n",
       "2               0.3              20            9.96       0.020202   \n",
       "3               0.4              66           36.98       0.030303   \n",
       "4               0.5               2            0.00       0.040404   \n",
       "\n",
       "   normalized_x2  normalized_y  anom.norm.avg_rain(x1)  anom.norm.ele(x2)  \\\n",
       "0       0.424242      0.375314               -0.500000          -0.092121   \n",
       "1       0.494949      0.546107               -0.489899          -0.021414   \n",
       "2       0.202020      0.178687               -0.479798          -0.314343   \n",
       "3       0.666667      0.663437               -0.469697           0.150303   \n",
       "4       0.020202      0.000000               -0.459596          -0.496162   \n",
       "\n",
       "   anom.norm.flood(y)       yX1       yX2      X1X2     X1_sq  \n",
       "0           -0.155544  0.077772  0.014329  0.046061  0.250000  \n",
       "1            0.015249 -0.007471 -0.000327  0.010491  0.240001  \n",
       "2           -0.352171  0.168971  0.110703  0.150821  0.230206  \n",
       "3            0.132580 -0.062272  0.019927 -0.070597  0.220615  \n",
       "4           -0.530858  0.243980  0.263391  0.228034  0.211228  "
      ]
     },
     "execution_count": 88,
     "metadata": {},
     "output_type": "execute_result"
    }
   ],
   "source": [
    "X1_sq = df['anom.norm.avg_rain(x1)']*df['anom.norm.avg_rain(x1)']\n",
    "df['X1_sq'] = X1_sq\n",
    "df.head()"
   ]
  },
  {
   "cell_type": "code",
   "execution_count": 89,
   "metadata": {},
   "outputs": [
    {
     "data": {
      "text/html": [
       "<div>\n",
       "<style scoped>\n",
       "    .dataframe tbody tr th:only-of-type {\n",
       "        vertical-align: middle;\n",
       "    }\n",
       "\n",
       "    .dataframe tbody tr th {\n",
       "        vertical-align: top;\n",
       "    }\n",
       "\n",
       "    .dataframe thead th {\n",
       "        text-align: right;\n",
       "    }\n",
       "</style>\n",
       "<table border=\"1\" class=\"dataframe\">\n",
       "  <thead>\n",
       "    <tr style=\"text-align: right;\">\n",
       "      <th></th>\n",
       "      <th>avg rainfall(x1)</th>\n",
       "      <th>elevation (x2)</th>\n",
       "      <th>flood risk (y)</th>\n",
       "      <th>normalized_x1</th>\n",
       "      <th>normalized_x2</th>\n",
       "      <th>normalized_y</th>\n",
       "      <th>anom.norm.avg_rain(x1)</th>\n",
       "      <th>anom.norm.ele(x2)</th>\n",
       "      <th>anom.norm.flood(y)</th>\n",
       "      <th>yX1</th>\n",
       "      <th>yX2</th>\n",
       "      <th>X1X2</th>\n",
       "      <th>X1_sq</th>\n",
       "      <th>X2_sq</th>\n",
       "    </tr>\n",
       "  </thead>\n",
       "  <tbody>\n",
       "    <tr>\n",
       "      <th>0</th>\n",
       "      <td>0.1</td>\n",
       "      <td>42</td>\n",
       "      <td>20.92</td>\n",
       "      <td>0.000000</td>\n",
       "      <td>0.424242</td>\n",
       "      <td>0.375314</td>\n",
       "      <td>-0.500000</td>\n",
       "      <td>-0.092121</td>\n",
       "      <td>-0.155544</td>\n",
       "      <td>0.077772</td>\n",
       "      <td>0.014329</td>\n",
       "      <td>0.046061</td>\n",
       "      <td>0.250000</td>\n",
       "      <td>0.008486</td>\n",
       "    </tr>\n",
       "    <tr>\n",
       "      <th>1</th>\n",
       "      <td>0.2</td>\n",
       "      <td>49</td>\n",
       "      <td>30.44</td>\n",
       "      <td>0.010101</td>\n",
       "      <td>0.494949</td>\n",
       "      <td>0.546107</td>\n",
       "      <td>-0.489899</td>\n",
       "      <td>-0.021414</td>\n",
       "      <td>0.015249</td>\n",
       "      <td>-0.007471</td>\n",
       "      <td>-0.000327</td>\n",
       "      <td>0.010491</td>\n",
       "      <td>0.240001</td>\n",
       "      <td>0.000459</td>\n",
       "    </tr>\n",
       "    <tr>\n",
       "      <th>2</th>\n",
       "      <td>0.3</td>\n",
       "      <td>20</td>\n",
       "      <td>9.96</td>\n",
       "      <td>0.020202</td>\n",
       "      <td>0.202020</td>\n",
       "      <td>0.178687</td>\n",
       "      <td>-0.479798</td>\n",
       "      <td>-0.314343</td>\n",
       "      <td>-0.352171</td>\n",
       "      <td>0.168971</td>\n",
       "      <td>0.110703</td>\n",
       "      <td>0.150821</td>\n",
       "      <td>0.230206</td>\n",
       "      <td>0.098812</td>\n",
       "    </tr>\n",
       "    <tr>\n",
       "      <th>3</th>\n",
       "      <td>0.4</td>\n",
       "      <td>66</td>\n",
       "      <td>36.98</td>\n",
       "      <td>0.030303</td>\n",
       "      <td>0.666667</td>\n",
       "      <td>0.663437</td>\n",
       "      <td>-0.469697</td>\n",
       "      <td>0.150303</td>\n",
       "      <td>0.132580</td>\n",
       "      <td>-0.062272</td>\n",
       "      <td>0.019927</td>\n",
       "      <td>-0.070597</td>\n",
       "      <td>0.220615</td>\n",
       "      <td>0.022591</td>\n",
       "    </tr>\n",
       "    <tr>\n",
       "      <th>4</th>\n",
       "      <td>0.5</td>\n",
       "      <td>2</td>\n",
       "      <td>0.00</td>\n",
       "      <td>0.040404</td>\n",
       "      <td>0.020202</td>\n",
       "      <td>0.000000</td>\n",
       "      <td>-0.459596</td>\n",
       "      <td>-0.496162</td>\n",
       "      <td>-0.530858</td>\n",
       "      <td>0.243980</td>\n",
       "      <td>0.263391</td>\n",
       "      <td>0.228034</td>\n",
       "      <td>0.211228</td>\n",
       "      <td>0.246176</td>\n",
       "    </tr>\n",
       "  </tbody>\n",
       "</table>\n",
       "</div>"
      ],
      "text/plain": [
       "   avg rainfall(x1)  elevation (x2)  flood risk (y)  normalized_x1  \\\n",
       "0               0.1              42           20.92       0.000000   \n",
       "1               0.2              49           30.44       0.010101   \n",
       "2               0.3              20            9.96       0.020202   \n",
       "3               0.4              66           36.98       0.030303   \n",
       "4               0.5               2            0.00       0.040404   \n",
       "\n",
       "   normalized_x2  normalized_y  anom.norm.avg_rain(x1)  anom.norm.ele(x2)  \\\n",
       "0       0.424242      0.375314               -0.500000          -0.092121   \n",
       "1       0.494949      0.546107               -0.489899          -0.021414   \n",
       "2       0.202020      0.178687               -0.479798          -0.314343   \n",
       "3       0.666667      0.663437               -0.469697           0.150303   \n",
       "4       0.020202      0.000000               -0.459596          -0.496162   \n",
       "\n",
       "   anom.norm.flood(y)       yX1       yX2      X1X2     X1_sq     X2_sq  \n",
       "0           -0.155544  0.077772  0.014329  0.046061  0.250000  0.008486  \n",
       "1            0.015249 -0.007471 -0.000327  0.010491  0.240001  0.000459  \n",
       "2           -0.352171  0.168971  0.110703  0.150821  0.230206  0.098812  \n",
       "3            0.132580 -0.062272  0.019927 -0.070597  0.220615  0.022591  \n",
       "4           -0.530858  0.243980  0.263391  0.228034  0.211228  0.246176  "
      ]
     },
     "execution_count": 89,
     "metadata": {},
     "output_type": "execute_result"
    }
   ],
   "source": [
    "X2_sq = df['anom.norm.ele(x2)']*df['anom.norm.ele(x2)']\n",
    "df['X2_sq'] = X2_sq\n",
    "df.head()"
   ]
  },
  {
   "cell_type": "code",
   "execution_count": 90,
   "metadata": {},
   "outputs": [
    {
     "data": {
      "text/plain": [
       "8.501683501683504"
      ]
     },
     "execution_count": 90,
     "metadata": {},
     "output_type": "execute_result"
    }
   ],
   "source": [
    "df['X1_sq'].sum()"
   ]
  },
  {
   "cell_type": "code",
   "execution_count": 91,
   "metadata": {},
   "outputs": [
    {
     "data": {
      "text/plain": [
       "5.4357446750385345e-30"
      ]
     },
     "execution_count": 91,
     "metadata": {},
     "output_type": "execute_result"
    }
   ],
   "source": [
    "# x1 square\n",
    "x1 = df['anom.norm.avg_rain(x1)'].sum()\n",
    "x1*x1"
   ]
  },
  {
   "cell_type": "code",
   "execution_count": 92,
   "metadata": {},
   "outputs": [
    {
     "data": {
      "text/plain": [
       "8.501683501683504"
      ]
     },
     "execution_count": 92,
     "metadata": {},
     "output_type": "execute_result"
    }
   ],
   "source": [
    "x1_sq = df['X1_sq'].sum() - (x1*x1) /len(df)\n",
    "x1_sq"
   ]
  },
  {
   "cell_type": "code",
   "execution_count": 93,
   "metadata": {},
   "outputs": [
    {
     "data": {
      "text/plain": [
       "2.9157646512850626"
      ]
     },
     "execution_count": 93,
     "metadata": {},
     "output_type": "execute_result"
    }
   ],
   "source": [
    "import math\n",
    "x1_root = math.sqrt(x1_sq)\n",
    "x1_root"
   ]
  },
  {
   "cell_type": "code",
   "execution_count": 94,
   "metadata": {},
   "outputs": [
    {
     "data": {
      "text/plain": [
       "9.233808795020918"
      ]
     },
     "execution_count": 94,
     "metadata": {},
     "output_type": "execute_result"
    }
   ],
   "source": [
    "df['X2_sq'].sum()"
   ]
  },
  {
   "cell_type": "code",
   "execution_count": 95,
   "metadata": {},
   "outputs": [
    {
     "data": {
      "text/plain": [
       "1.176894188928241e-27"
      ]
     },
     "execution_count": 95,
     "metadata": {},
     "output_type": "execute_result"
    }
   ],
   "source": [
    "#x2 square\n",
    "x2 = df['anom.norm.ele(x2)'].sum()\n",
    "x2*x2"
   ]
  },
  {
   "cell_type": "code",
   "execution_count": 96,
   "metadata": {},
   "outputs": [
    {
     "data": {
      "text/plain": [
       "9.233808795020918"
      ]
     },
     "execution_count": 96,
     "metadata": {},
     "output_type": "execute_result"
    }
   ],
   "source": [
    "\n",
    "x2_square =df['X2_sq'].sum()- (x2*x2)/len(df)\n",
    "x2_square"
   ]
  },
  {
   "cell_type": "code",
   "execution_count": 97,
   "metadata": {},
   "outputs": [
    {
     "data": {
      "text/plain": [
       "3.0387182816149507"
      ]
     },
     "execution_count": 97,
     "metadata": {},
     "output_type": "execute_result"
    }
   ],
   "source": [
    "x2_root=math.sqrt(x2_square)\n",
    "x2_root"
   ]
  },
  {
   "cell_type": "code",
   "execution_count": 98,
   "metadata": {},
   "outputs": [
    {
     "data": {
      "text/plain": [
       "0.8931257316617924"
      ]
     },
     "execution_count": 98,
     "metadata": {},
     "output_type": "execute_result"
    }
   ],
   "source": [
    "df['yX1'].sum()"
   ]
  },
  {
   "cell_type": "code",
   "execution_count": 99,
   "metadata": {},
   "outputs": [
    {
     "data": {
      "text/plain": [
       "2.3314683517128287e-15"
      ]
     },
     "execution_count": 99,
     "metadata": {},
     "output_type": "execute_result"
    }
   ],
   "source": [
    "x1 = df['anom.norm.avg_rain(x1)'].sum()\n",
    "x1"
   ]
  },
  {
   "cell_type": "code",
   "execution_count": 100,
   "metadata": {},
   "outputs": [
    {
     "data": {
      "text/plain": [
       "1.7208456881689926e-14"
      ]
     },
     "execution_count": 100,
     "metadata": {},
     "output_type": "execute_result"
    }
   ],
   "source": [
    "y = df['anom.norm.flood(y)'].sum()\n",
    "y"
   ]
  },
  {
   "cell_type": "code",
   "execution_count": 101,
   "metadata": {},
   "outputs": [
    {
     "data": {
      "text/plain": [
       "0.8931257316617924"
      ]
     },
     "execution_count": 101,
     "metadata": {},
     "output_type": "execute_result"
    }
   ],
   "source": [
    "#summation of x1Y\n",
    "x1y = df['yX1'].sum() - (x1*y)/len(df)\n",
    "x1y"
   ]
  },
  {
   "cell_type": "code",
   "execution_count": 102,
   "metadata": {},
   "outputs": [
    {
     "data": {
      "text/plain": [
       "8.406606430287807"
      ]
     },
     "execution_count": 102,
     "metadata": {},
     "output_type": "execute_result"
    }
   ],
   "source": [
    "df['yX2'].sum()"
   ]
  },
  {
   "cell_type": "code",
   "execution_count": 103,
   "metadata": {},
   "outputs": [
    {
     "data": {
      "text/plain": [
       "3.430589146091734e-14"
      ]
     },
     "execution_count": 103,
     "metadata": {},
     "output_type": "execute_result"
    }
   ],
   "source": [
    "x2 = df['anom.norm.ele(x2)'].sum()\n",
    "x2"
   ]
  },
  {
   "cell_type": "code",
   "execution_count": 104,
   "metadata": {},
   "outputs": [
    {
     "data": {
      "text/plain": [
       "8.406606430287807"
      ]
     },
     "execution_count": 104,
     "metadata": {},
     "output_type": "execute_result"
    }
   ],
   "source": [
    "# summation of x2y\n",
    "x2y = df['yX2'].sum() - (x2*y)/len(df)\n",
    "x2y"
   ]
  },
  {
   "cell_type": "code",
   "execution_count": 105,
   "metadata": {},
   "outputs": [
    {
     "data": {
      "text/plain": [
       "0.5764717885930007"
      ]
     },
     "execution_count": 105,
     "metadata": {},
     "output_type": "execute_result"
    }
   ],
   "source": [
    "x1x2 = df['anom.norm.avg_rain(x1)']*df['anom.norm.ele(x2)']\n",
    "x1x2.sum()"
   ]
  },
  {
   "cell_type": "code",
   "execution_count": 106,
   "metadata": {},
   "outputs": [
    {
     "data": {
      "text/plain": [
       "0.5764717885930007"
      ]
     },
     "execution_count": 106,
     "metadata": {},
     "output_type": "execute_result"
    }
   ],
   "source": [
    "# summation of x1x2\n",
    "x1x2_summation =x1x2.sum() - ((df['anom.norm.avg_rain(x1)'].sum())*(df['anom.norm.ele(x2)'].sum()))/len(df)\n",
    "x1x2_summation"
   ]
  },
  {
   "cell_type": "markdown",
   "metadata": {},
   "source": [
    "# b1 = 0.0435, 1st coeffients of the best fit line"
   ]
  },
  {
   "cell_type": "code",
   "execution_count": 107,
   "metadata": {},
   "outputs": [
    {
     "data": {
      "text/plain": [
       "0.04350460126869971"
      ]
     },
     "execution_count": 107,
     "metadata": {},
     "output_type": "execute_result"
    }
   ],
   "source": [
    "#b1\n",
    "b1 = ((x2_square*x1y) - (x1x2_summation*x2y))/((x1_sq*x2_square)-(x1x2_summation*x1x2_summation))\n",
    "b1"
   ]
  },
  {
   "cell_type": "markdown",
   "metadata": {},
   "source": [
    "# b2 = 0.908, 2nd coefficient of the best fitting line"
   ]
  },
  {
   "cell_type": "code",
   "execution_count": 108,
   "metadata": {},
   "outputs": [
    {
     "data": {
      "text/plain": [
       "0.907699892973951"
      ]
     },
     "execution_count": 108,
     "metadata": {},
     "output_type": "execute_result"
    }
   ],
   "source": [
    "#b2\n",
    "b2 = ((x1_sq*x2y)- (x1x2_summation*x1y))/((x1_sq*x2_square)-(x1x2_summation*x1x2_summation))\n",
    "b2"
   ]
  },
  {
   "cell_type": "code",
   "execution_count": 146,
   "metadata": {},
   "outputs": [
    {
     "data": {
      "text/plain": [
       "2.3314683517128286e-17"
      ]
     },
     "execution_count": 146,
     "metadata": {},
     "output_type": "execute_result"
    }
   ],
   "source": [
    "avg_X1 = df['anom.norm.avg_rain(x1)'].sum()/100\n",
    "avg_X1"
   ]
  },
  {
   "cell_type": "code",
   "execution_count": 110,
   "metadata": {},
   "outputs": [
    {
     "data": {
      "text/plain": [
       "3.4305891460917336e-16"
      ]
     },
     "execution_count": 110,
     "metadata": {},
     "output_type": "execute_result"
    }
   ],
   "source": [
    "avg_X2 = df['anom.norm.ele(x2)'].sum()/100\n",
    "avg_X2"
   ]
  },
  {
   "cell_type": "code",
   "execution_count": 160,
   "metadata": {},
   "outputs": [
    {
     "data": {
      "text/plain": [
       "1.7208456881689927e-16"
      ]
     },
     "execution_count": 160,
     "metadata": {},
     "output_type": "execute_result"
    }
   ],
   "source": [
    "avg_y = df['anom.norm.flood(y)'].sum()/100\n",
    "avg_y"
   ]
  },
  {
   "cell_type": "markdown",
   "metadata": {},
   "source": [
    "# Intercept, b0 = -1.403"
   ]
  },
  {
   "cell_type": "code",
   "execution_count": 158,
   "metadata": {},
   "outputs": [
    {
     "data": {
      "text/plain": [
       "-1.403242672677258e-16"
      ]
     },
     "execution_count": 158,
     "metadata": {},
     "output_type": "execute_result"
    }
   ],
   "source": [
    "b0 = avg_y - b1*avg_X1 - b2*avg_X2\n",
    "b0\n"
   ]
  },
  {
   "cell_type": "markdown",
   "metadata": {},
   "source": [
    "# y = -1.403 + 0.435x1 + 0.908x2 -> Best fit line"
   ]
  },
  {
   "cell_type": "code",
   "execution_count": 113,
   "metadata": {},
   "outputs": [
    {
     "data": {
      "text/plain": [
       "2.885093437547405"
      ]
     },
     "execution_count": 113,
     "metadata": {},
     "output_type": "execute_result"
    }
   ],
   "source": [
    "# equation of the final line\n",
    "y_hat = b0+b1*x1_root+b2*x2_root\n",
    "y_hat"
   ]
  },
  {
   "cell_type": "code",
   "execution_count": 114,
   "metadata": {},
   "outputs": [
    {
     "data": {
      "text/html": [
       "<div>\n",
       "<style scoped>\n",
       "    .dataframe tbody tr th:only-of-type {\n",
       "        vertical-align: middle;\n",
       "    }\n",
       "\n",
       "    .dataframe tbody tr th {\n",
       "        vertical-align: top;\n",
       "    }\n",
       "\n",
       "    .dataframe thead th {\n",
       "        text-align: right;\n",
       "    }\n",
       "</style>\n",
       "<table border=\"1\" class=\"dataframe\">\n",
       "  <thead>\n",
       "    <tr style=\"text-align: right;\">\n",
       "      <th></th>\n",
       "      <th>avg rainfall(x1)</th>\n",
       "      <th>elevation (x2)</th>\n",
       "      <th>flood risk (y)</th>\n",
       "      <th>normalized_x1</th>\n",
       "      <th>normalized_x2</th>\n",
       "      <th>normalized_y</th>\n",
       "      <th>anom.norm.avg_rain(x1)</th>\n",
       "      <th>anom.norm.ele(x2)</th>\n",
       "      <th>anom.norm.flood(y)</th>\n",
       "      <th>yX1</th>\n",
       "      <th>yX2</th>\n",
       "      <th>X1X2</th>\n",
       "      <th>X1_sq</th>\n",
       "      <th>X2_sq</th>\n",
       "    </tr>\n",
       "  </thead>\n",
       "  <tbody>\n",
       "    <tr>\n",
       "      <th>0</th>\n",
       "      <td>0.1</td>\n",
       "      <td>42</td>\n",
       "      <td>20.92</td>\n",
       "      <td>0.000000</td>\n",
       "      <td>0.424242</td>\n",
       "      <td>0.375314</td>\n",
       "      <td>-0.500000</td>\n",
       "      <td>-0.092121</td>\n",
       "      <td>-0.155544</td>\n",
       "      <td>0.077772</td>\n",
       "      <td>0.014329</td>\n",
       "      <td>0.046061</td>\n",
       "      <td>0.250000</td>\n",
       "      <td>0.008486</td>\n",
       "    </tr>\n",
       "    <tr>\n",
       "      <th>1</th>\n",
       "      <td>0.2</td>\n",
       "      <td>49</td>\n",
       "      <td>30.44</td>\n",
       "      <td>0.010101</td>\n",
       "      <td>0.494949</td>\n",
       "      <td>0.546107</td>\n",
       "      <td>-0.489899</td>\n",
       "      <td>-0.021414</td>\n",
       "      <td>0.015249</td>\n",
       "      <td>-0.007471</td>\n",
       "      <td>-0.000327</td>\n",
       "      <td>0.010491</td>\n",
       "      <td>0.240001</td>\n",
       "      <td>0.000459</td>\n",
       "    </tr>\n",
       "    <tr>\n",
       "      <th>2</th>\n",
       "      <td>0.3</td>\n",
       "      <td>20</td>\n",
       "      <td>9.96</td>\n",
       "      <td>0.020202</td>\n",
       "      <td>0.202020</td>\n",
       "      <td>0.178687</td>\n",
       "      <td>-0.479798</td>\n",
       "      <td>-0.314343</td>\n",
       "      <td>-0.352171</td>\n",
       "      <td>0.168971</td>\n",
       "      <td>0.110703</td>\n",
       "      <td>0.150821</td>\n",
       "      <td>0.230206</td>\n",
       "      <td>0.098812</td>\n",
       "    </tr>\n",
       "    <tr>\n",
       "      <th>3</th>\n",
       "      <td>0.4</td>\n",
       "      <td>66</td>\n",
       "      <td>36.98</td>\n",
       "      <td>0.030303</td>\n",
       "      <td>0.666667</td>\n",
       "      <td>0.663437</td>\n",
       "      <td>-0.469697</td>\n",
       "      <td>0.150303</td>\n",
       "      <td>0.132580</td>\n",
       "      <td>-0.062272</td>\n",
       "      <td>0.019927</td>\n",
       "      <td>-0.070597</td>\n",
       "      <td>0.220615</td>\n",
       "      <td>0.022591</td>\n",
       "    </tr>\n",
       "    <tr>\n",
       "      <th>4</th>\n",
       "      <td>0.5</td>\n",
       "      <td>2</td>\n",
       "      <td>0.00</td>\n",
       "      <td>0.040404</td>\n",
       "      <td>0.020202</td>\n",
       "      <td>0.000000</td>\n",
       "      <td>-0.459596</td>\n",
       "      <td>-0.496162</td>\n",
       "      <td>-0.530858</td>\n",
       "      <td>0.243980</td>\n",
       "      <td>0.263391</td>\n",
       "      <td>0.228034</td>\n",
       "      <td>0.211228</td>\n",
       "      <td>0.246176</td>\n",
       "    </tr>\n",
       "  </tbody>\n",
       "</table>\n",
       "</div>"
      ],
      "text/plain": [
       "   avg rainfall(x1)  elevation (x2)  flood risk (y)  normalized_x1  \\\n",
       "0               0.1              42           20.92       0.000000   \n",
       "1               0.2              49           30.44       0.010101   \n",
       "2               0.3              20            9.96       0.020202   \n",
       "3               0.4              66           36.98       0.030303   \n",
       "4               0.5               2            0.00       0.040404   \n",
       "\n",
       "   normalized_x2  normalized_y  anom.norm.avg_rain(x1)  anom.norm.ele(x2)  \\\n",
       "0       0.424242      0.375314               -0.500000          -0.092121   \n",
       "1       0.494949      0.546107               -0.489899          -0.021414   \n",
       "2       0.202020      0.178687               -0.479798          -0.314343   \n",
       "3       0.666667      0.663437               -0.469697           0.150303   \n",
       "4       0.020202      0.000000               -0.459596          -0.496162   \n",
       "\n",
       "   anom.norm.flood(y)       yX1       yX2      X1X2     X1_sq     X2_sq  \n",
       "0           -0.155544  0.077772  0.014329  0.046061  0.250000  0.008486  \n",
       "1            0.015249 -0.007471 -0.000327  0.010491  0.240001  0.000459  \n",
       "2           -0.352171  0.168971  0.110703  0.150821  0.230206  0.098812  \n",
       "3            0.132580 -0.062272  0.019927 -0.070597  0.220615  0.022591  \n",
       "4           -0.530858  0.243980  0.263391  0.228034  0.211228  0.246176  "
      ]
     },
     "execution_count": 114,
     "metadata": {},
     "output_type": "execute_result"
    }
   ],
   "source": [
    "df.head()"
   ]
  },
  {
   "cell_type": "code",
   "execution_count": 129,
   "metadata": {},
   "outputs": [
    {
     "data": {
      "text/html": [
       "<div>\n",
       "<style scoped>\n",
       "    .dataframe tbody tr th:only-of-type {\n",
       "        vertical-align: middle;\n",
       "    }\n",
       "\n",
       "    .dataframe tbody tr th {\n",
       "        vertical-align: top;\n",
       "    }\n",
       "\n",
       "    .dataframe thead th {\n",
       "        text-align: right;\n",
       "    }\n",
       "</style>\n",
       "<table border=\"1\" class=\"dataframe\">\n",
       "  <thead>\n",
       "    <tr style=\"text-align: right;\">\n",
       "      <th></th>\n",
       "      <th>avg rainfall(x1)</th>\n",
       "      <th>elevation (x2)</th>\n",
       "      <th>flood risk (y)</th>\n",
       "      <th>normalized_x1</th>\n",
       "      <th>normalized_x2</th>\n",
       "      <th>normalized_y</th>\n",
       "      <th>anom.norm.avg_rain(x1)</th>\n",
       "      <th>anom.norm.ele(x2)</th>\n",
       "      <th>anom.norm.flood(y)</th>\n",
       "      <th>yX1</th>\n",
       "      <th>yX2</th>\n",
       "      <th>X1X2</th>\n",
       "      <th>X1_sq</th>\n",
       "      <th>X2_sq</th>\n",
       "      <th>y_pred</th>\n",
       "    </tr>\n",
       "  </thead>\n",
       "  <tbody>\n",
       "    <tr>\n",
       "      <th>0</th>\n",
       "      <td>0.1</td>\n",
       "      <td>42</td>\n",
       "      <td>20.92</td>\n",
       "      <td>0.000000</td>\n",
       "      <td>0.424242</td>\n",
       "      <td>0.375314</td>\n",
       "      <td>-0.500000</td>\n",
       "      <td>-0.092121</td>\n",
       "      <td>-0.155544</td>\n",
       "      <td>0.077772</td>\n",
       "      <td>0.014329</td>\n",
       "      <td>0.046061</td>\n",
       "      <td>0.250000</td>\n",
       "      <td>0.008486</td>\n",
       "      <td>-0.105371</td>\n",
       "    </tr>\n",
       "    <tr>\n",
       "      <th>1</th>\n",
       "      <td>0.2</td>\n",
       "      <td>49</td>\n",
       "      <td>30.44</td>\n",
       "      <td>0.010101</td>\n",
       "      <td>0.494949</td>\n",
       "      <td>0.546107</td>\n",
       "      <td>-0.489899</td>\n",
       "      <td>-0.021414</td>\n",
       "      <td>0.015249</td>\n",
       "      <td>-0.007471</td>\n",
       "      <td>-0.000327</td>\n",
       "      <td>0.010491</td>\n",
       "      <td>0.240001</td>\n",
       "      <td>0.000459</td>\n",
       "      <td>-0.040750</td>\n",
       "    </tr>\n",
       "    <tr>\n",
       "      <th>2</th>\n",
       "      <td>0.3</td>\n",
       "      <td>20</td>\n",
       "      <td>9.96</td>\n",
       "      <td>0.020202</td>\n",
       "      <td>0.202020</td>\n",
       "      <td>0.178687</td>\n",
       "      <td>-0.479798</td>\n",
       "      <td>-0.314343</td>\n",
       "      <td>-0.352171</td>\n",
       "      <td>0.168971</td>\n",
       "      <td>0.110703</td>\n",
       "      <td>0.150821</td>\n",
       "      <td>0.230206</td>\n",
       "      <td>0.098812</td>\n",
       "      <td>-0.306203</td>\n",
       "    </tr>\n",
       "    <tr>\n",
       "      <th>3</th>\n",
       "      <td>0.4</td>\n",
       "      <td>66</td>\n",
       "      <td>36.98</td>\n",
       "      <td>0.030303</td>\n",
       "      <td>0.666667</td>\n",
       "      <td>0.663437</td>\n",
       "      <td>-0.469697</td>\n",
       "      <td>0.150303</td>\n",
       "      <td>0.132580</td>\n",
       "      <td>-0.062272</td>\n",
       "      <td>0.019927</td>\n",
       "      <td>-0.070597</td>\n",
       "      <td>0.220615</td>\n",
       "      <td>0.022591</td>\n",
       "      <td>0.115996</td>\n",
       "    </tr>\n",
       "    <tr>\n",
       "      <th>4</th>\n",
       "      <td>0.5</td>\n",
       "      <td>2</td>\n",
       "      <td>0.00</td>\n",
       "      <td>0.040404</td>\n",
       "      <td>0.020202</td>\n",
       "      <td>0.000000</td>\n",
       "      <td>-0.459596</td>\n",
       "      <td>-0.496162</td>\n",
       "      <td>-0.530858</td>\n",
       "      <td>0.243980</td>\n",
       "      <td>0.263391</td>\n",
       "      <td>0.228034</td>\n",
       "      <td>0.211228</td>\n",
       "      <td>0.246176</td>\n",
       "      <td>-0.470360</td>\n",
       "    </tr>\n",
       "    <tr>\n",
       "      <th>...</th>\n",
       "      <td>...</td>\n",
       "      <td>...</td>\n",
       "      <td>...</td>\n",
       "      <td>...</td>\n",
       "      <td>...</td>\n",
       "      <td>...</td>\n",
       "      <td>...</td>\n",
       "      <td>...</td>\n",
       "      <td>...</td>\n",
       "      <td>...</td>\n",
       "      <td>...</td>\n",
       "      <td>...</td>\n",
       "      <td>...</td>\n",
       "      <td>...</td>\n",
       "      <td>...</td>\n",
       "    </tr>\n",
       "    <tr>\n",
       "      <th>95</th>\n",
       "      <td>9.6</td>\n",
       "      <td>60</td>\n",
       "      <td>37.82</td>\n",
       "      <td>0.959596</td>\n",
       "      <td>0.606061</td>\n",
       "      <td>0.678507</td>\n",
       "      <td>0.459596</td>\n",
       "      <td>0.089697</td>\n",
       "      <td>0.147650</td>\n",
       "      <td>0.067859</td>\n",
       "      <td>0.013244</td>\n",
       "      <td>0.041224</td>\n",
       "      <td>0.211228</td>\n",
       "      <td>0.008046</td>\n",
       "      <td>0.101412</td>\n",
       "    </tr>\n",
       "    <tr>\n",
       "      <th>96</th>\n",
       "      <td>9.7</td>\n",
       "      <td>11</td>\n",
       "      <td>6.34</td>\n",
       "      <td>0.969697</td>\n",
       "      <td>0.111111</td>\n",
       "      <td>0.113742</td>\n",
       "      <td>0.469697</td>\n",
       "      <td>-0.405253</td>\n",
       "      <td>-0.417115</td>\n",
       "      <td>-0.195918</td>\n",
       "      <td>0.169037</td>\n",
       "      <td>-0.190346</td>\n",
       "      <td>0.220615</td>\n",
       "      <td>0.164230</td>\n",
       "      <td>-0.347414</td>\n",
       "    </tr>\n",
       "    <tr>\n",
       "      <th>97</th>\n",
       "      <td>9.8</td>\n",
       "      <td>38</td>\n",
       "      <td>20.86</td>\n",
       "      <td>0.979798</td>\n",
       "      <td>0.383838</td>\n",
       "      <td>0.374238</td>\n",
       "      <td>0.479798</td>\n",
       "      <td>-0.132525</td>\n",
       "      <td>-0.156620</td>\n",
       "      <td>-0.075146</td>\n",
       "      <td>0.020756</td>\n",
       "      <td>-0.063585</td>\n",
       "      <td>0.230206</td>\n",
       "      <td>0.017563</td>\n",
       "      <td>-0.099420</td>\n",
       "    </tr>\n",
       "    <tr>\n",
       "      <th>98</th>\n",
       "      <td>9.9</td>\n",
       "      <td>80</td>\n",
       "      <td>45.88</td>\n",
       "      <td>0.989899</td>\n",
       "      <td>0.808081</td>\n",
       "      <td>0.823107</td>\n",
       "      <td>0.489899</td>\n",
       "      <td>0.291717</td>\n",
       "      <td>0.292250</td>\n",
       "      <td>0.143173</td>\n",
       "      <td>0.085254</td>\n",
       "      <td>0.142912</td>\n",
       "      <td>0.240001</td>\n",
       "      <td>0.085099</td>\n",
       "      <td>0.286105</td>\n",
       "    </tr>\n",
       "    <tr>\n",
       "      <th>99</th>\n",
       "      <td>10.0</td>\n",
       "      <td>66</td>\n",
       "      <td>41.90</td>\n",
       "      <td>1.000000</td>\n",
       "      <td>0.666667</td>\n",
       "      <td>0.751704</td>\n",
       "      <td>0.500000</td>\n",
       "      <td>0.150303</td>\n",
       "      <td>0.220847</td>\n",
       "      <td>0.110423</td>\n",
       "      <td>0.033194</td>\n",
       "      <td>0.075152</td>\n",
       "      <td>0.250000</td>\n",
       "      <td>0.022591</td>\n",
       "      <td>0.158182</td>\n",
       "    </tr>\n",
       "  </tbody>\n",
       "</table>\n",
       "<p>100 rows × 15 columns</p>\n",
       "</div>"
      ],
      "text/plain": [
       "    avg rainfall(x1)  elevation (x2)  flood risk (y)  normalized_x1  \\\n",
       "0                0.1              42           20.92       0.000000   \n",
       "1                0.2              49           30.44       0.010101   \n",
       "2                0.3              20            9.96       0.020202   \n",
       "3                0.4              66           36.98       0.030303   \n",
       "4                0.5               2            0.00       0.040404   \n",
       "..               ...             ...             ...            ...   \n",
       "95               9.6              60           37.82       0.959596   \n",
       "96               9.7              11            6.34       0.969697   \n",
       "97               9.8              38           20.86       0.979798   \n",
       "98               9.9              80           45.88       0.989899   \n",
       "99              10.0              66           41.90       1.000000   \n",
       "\n",
       "    normalized_x2  normalized_y  anom.norm.avg_rain(x1)  anom.norm.ele(x2)  \\\n",
       "0        0.424242      0.375314               -0.500000          -0.092121   \n",
       "1        0.494949      0.546107               -0.489899          -0.021414   \n",
       "2        0.202020      0.178687               -0.479798          -0.314343   \n",
       "3        0.666667      0.663437               -0.469697           0.150303   \n",
       "4        0.020202      0.000000               -0.459596          -0.496162   \n",
       "..            ...           ...                     ...                ...   \n",
       "95       0.606061      0.678507                0.459596           0.089697   \n",
       "96       0.111111      0.113742                0.469697          -0.405253   \n",
       "97       0.383838      0.374238                0.479798          -0.132525   \n",
       "98       0.808081      0.823107                0.489899           0.291717   \n",
       "99       0.666667      0.751704                0.500000           0.150303   \n",
       "\n",
       "    anom.norm.flood(y)       yX1       yX2      X1X2     X1_sq     X2_sq  \\\n",
       "0            -0.155544  0.077772  0.014329  0.046061  0.250000  0.008486   \n",
       "1             0.015249 -0.007471 -0.000327  0.010491  0.240001  0.000459   \n",
       "2            -0.352171  0.168971  0.110703  0.150821  0.230206  0.098812   \n",
       "3             0.132580 -0.062272  0.019927 -0.070597  0.220615  0.022591   \n",
       "4            -0.530858  0.243980  0.263391  0.228034  0.211228  0.246176   \n",
       "..                 ...       ...       ...       ...       ...       ...   \n",
       "95            0.147650  0.067859  0.013244  0.041224  0.211228  0.008046   \n",
       "96           -0.417115 -0.195918  0.169037 -0.190346  0.220615  0.164230   \n",
       "97           -0.156620 -0.075146  0.020756 -0.063585  0.230206  0.017563   \n",
       "98            0.292250  0.143173  0.085254  0.142912  0.240001  0.085099   \n",
       "99            0.220847  0.110423  0.033194  0.075152  0.250000  0.022591   \n",
       "\n",
       "      y_pred  \n",
       "0  -0.105371  \n",
       "1  -0.040750  \n",
       "2  -0.306203  \n",
       "3   0.115996  \n",
       "4  -0.470360  \n",
       "..       ...  \n",
       "95  0.101412  \n",
       "96 -0.347414  \n",
       "97 -0.099420  \n",
       "98  0.286105  \n",
       "99  0.158182  \n",
       "\n",
       "[100 rows x 15 columns]"
      ]
     },
     "execution_count": 129,
     "metadata": {},
     "output_type": "execute_result"
    }
   ],
   "source": [
    "df['y_pred'] = b0 + b1*df['anom.norm.avg_rain(x1)'] + b2*df['anom.norm.ele(x2)']\n",
    "df "
   ]
  },
  {
   "cell_type": "markdown",
   "metadata": {},
   "source": [
    "# Residual"
   ]
  },
  {
   "cell_type": "code",
   "execution_count": 194,
   "metadata": {},
   "outputs": [
    {
     "data": {
      "text/html": [
       "<div>\n",
       "<style scoped>\n",
       "    .dataframe tbody tr th:only-of-type {\n",
       "        vertical-align: middle;\n",
       "    }\n",
       "\n",
       "    .dataframe tbody tr th {\n",
       "        vertical-align: top;\n",
       "    }\n",
       "\n",
       "    .dataframe thead th {\n",
       "        text-align: right;\n",
       "    }\n",
       "</style>\n",
       "<table border=\"1\" class=\"dataframe\">\n",
       "  <thead>\n",
       "    <tr style=\"text-align: right;\">\n",
       "      <th></th>\n",
       "      <th>avg rainfall(x1)</th>\n",
       "      <th>elevation (x2)</th>\n",
       "      <th>flood risk (y)</th>\n",
       "      <th>normalized_x1</th>\n",
       "      <th>normalized_x2</th>\n",
       "      <th>normalized_y</th>\n",
       "      <th>anom.norm.avg_rain(x1)</th>\n",
       "      <th>anom.norm.ele(x2)</th>\n",
       "      <th>anom.norm.flood(y)</th>\n",
       "      <th>yX1</th>\n",
       "      <th>yX2</th>\n",
       "      <th>X1X2</th>\n",
       "      <th>X1_sq</th>\n",
       "      <th>X2_sq</th>\n",
       "      <th>y_pred</th>\n",
       "      <th>residue</th>\n",
       "    </tr>\n",
       "  </thead>\n",
       "  <tbody>\n",
       "    <tr>\n",
       "      <th>0</th>\n",
       "      <td>0.1</td>\n",
       "      <td>42</td>\n",
       "      <td>20.92</td>\n",
       "      <td>0.000000</td>\n",
       "      <td>0.424242</td>\n",
       "      <td>0.375314</td>\n",
       "      <td>-0.500000</td>\n",
       "      <td>-0.092121</td>\n",
       "      <td>-0.155544</td>\n",
       "      <td>0.077772</td>\n",
       "      <td>0.014329</td>\n",
       "      <td>0.046061</td>\n",
       "      <td>0.250000</td>\n",
       "      <td>0.008486</td>\n",
       "      <td>-0.105371</td>\n",
       "      <td>0.002517</td>\n",
       "    </tr>\n",
       "    <tr>\n",
       "      <th>1</th>\n",
       "      <td>0.2</td>\n",
       "      <td>49</td>\n",
       "      <td>30.44</td>\n",
       "      <td>0.010101</td>\n",
       "      <td>0.494949</td>\n",
       "      <td>0.546107</td>\n",
       "      <td>-0.489899</td>\n",
       "      <td>-0.021414</td>\n",
       "      <td>0.015249</td>\n",
       "      <td>-0.007471</td>\n",
       "      <td>-0.000327</td>\n",
       "      <td>0.010491</td>\n",
       "      <td>0.240001</td>\n",
       "      <td>0.000459</td>\n",
       "      <td>-0.040750</td>\n",
       "      <td>0.003136</td>\n",
       "    </tr>\n",
       "    <tr>\n",
       "      <th>2</th>\n",
       "      <td>0.3</td>\n",
       "      <td>20</td>\n",
       "      <td>9.96</td>\n",
       "      <td>0.020202</td>\n",
       "      <td>0.202020</td>\n",
       "      <td>0.178687</td>\n",
       "      <td>-0.479798</td>\n",
       "      <td>-0.314343</td>\n",
       "      <td>-0.352171</td>\n",
       "      <td>0.168971</td>\n",
       "      <td>0.110703</td>\n",
       "      <td>0.150821</td>\n",
       "      <td>0.230206</td>\n",
       "      <td>0.098812</td>\n",
       "      <td>-0.306203</td>\n",
       "      <td>0.002113</td>\n",
       "    </tr>\n",
       "    <tr>\n",
       "      <th>3</th>\n",
       "      <td>0.4</td>\n",
       "      <td>66</td>\n",
       "      <td>36.98</td>\n",
       "      <td>0.030303</td>\n",
       "      <td>0.666667</td>\n",
       "      <td>0.663437</td>\n",
       "      <td>-0.469697</td>\n",
       "      <td>0.150303</td>\n",
       "      <td>0.132580</td>\n",
       "      <td>-0.062272</td>\n",
       "      <td>0.019927</td>\n",
       "      <td>-0.070597</td>\n",
       "      <td>0.220615</td>\n",
       "      <td>0.022591</td>\n",
       "      <td>0.115996</td>\n",
       "      <td>0.000275</td>\n",
       "    </tr>\n",
       "    <tr>\n",
       "      <th>4</th>\n",
       "      <td>0.5</td>\n",
       "      <td>2</td>\n",
       "      <td>0.00</td>\n",
       "      <td>0.040404</td>\n",
       "      <td>0.020202</td>\n",
       "      <td>0.000000</td>\n",
       "      <td>-0.459596</td>\n",
       "      <td>-0.496162</td>\n",
       "      <td>-0.530858</td>\n",
       "      <td>0.243980</td>\n",
       "      <td>0.263391</td>\n",
       "      <td>0.228034</td>\n",
       "      <td>0.211228</td>\n",
       "      <td>0.246176</td>\n",
       "      <td>-0.470360</td>\n",
       "      <td>0.003660</td>\n",
       "    </tr>\n",
       "    <tr>\n",
       "      <th>...</th>\n",
       "      <td>...</td>\n",
       "      <td>...</td>\n",
       "      <td>...</td>\n",
       "      <td>...</td>\n",
       "      <td>...</td>\n",
       "      <td>...</td>\n",
       "      <td>...</td>\n",
       "      <td>...</td>\n",
       "      <td>...</td>\n",
       "      <td>...</td>\n",
       "      <td>...</td>\n",
       "      <td>...</td>\n",
       "      <td>...</td>\n",
       "      <td>...</td>\n",
       "      <td>...</td>\n",
       "      <td>...</td>\n",
       "    </tr>\n",
       "    <tr>\n",
       "      <th>95</th>\n",
       "      <td>9.6</td>\n",
       "      <td>60</td>\n",
       "      <td>37.82</td>\n",
       "      <td>0.959596</td>\n",
       "      <td>0.606061</td>\n",
       "      <td>0.678507</td>\n",
       "      <td>0.459596</td>\n",
       "      <td>0.089697</td>\n",
       "      <td>0.147650</td>\n",
       "      <td>0.067859</td>\n",
       "      <td>0.013244</td>\n",
       "      <td>0.041224</td>\n",
       "      <td>0.211228</td>\n",
       "      <td>0.008046</td>\n",
       "      <td>0.101412</td>\n",
       "      <td>0.002138</td>\n",
       "    </tr>\n",
       "    <tr>\n",
       "      <th>96</th>\n",
       "      <td>9.7</td>\n",
       "      <td>11</td>\n",
       "      <td>6.34</td>\n",
       "      <td>0.969697</td>\n",
       "      <td>0.111111</td>\n",
       "      <td>0.113742</td>\n",
       "      <td>0.469697</td>\n",
       "      <td>-0.405253</td>\n",
       "      <td>-0.417115</td>\n",
       "      <td>-0.195918</td>\n",
       "      <td>0.169037</td>\n",
       "      <td>-0.190346</td>\n",
       "      <td>0.220615</td>\n",
       "      <td>0.164230</td>\n",
       "      <td>-0.347414</td>\n",
       "      <td>0.004858</td>\n",
       "    </tr>\n",
       "    <tr>\n",
       "      <th>97</th>\n",
       "      <td>9.8</td>\n",
       "      <td>38</td>\n",
       "      <td>20.86</td>\n",
       "      <td>0.979798</td>\n",
       "      <td>0.383838</td>\n",
       "      <td>0.374238</td>\n",
       "      <td>0.479798</td>\n",
       "      <td>-0.132525</td>\n",
       "      <td>-0.156620</td>\n",
       "      <td>-0.075146</td>\n",
       "      <td>0.020756</td>\n",
       "      <td>-0.063585</td>\n",
       "      <td>0.230206</td>\n",
       "      <td>0.017563</td>\n",
       "      <td>-0.099420</td>\n",
       "      <td>0.003272</td>\n",
       "    </tr>\n",
       "    <tr>\n",
       "      <th>98</th>\n",
       "      <td>9.9</td>\n",
       "      <td>80</td>\n",
       "      <td>45.88</td>\n",
       "      <td>0.989899</td>\n",
       "      <td>0.808081</td>\n",
       "      <td>0.823107</td>\n",
       "      <td>0.489899</td>\n",
       "      <td>0.291717</td>\n",
       "      <td>0.292250</td>\n",
       "      <td>0.143173</td>\n",
       "      <td>0.085254</td>\n",
       "      <td>0.142912</td>\n",
       "      <td>0.240001</td>\n",
       "      <td>0.085099</td>\n",
       "      <td>0.286105</td>\n",
       "      <td>0.000038</td>\n",
       "    </tr>\n",
       "    <tr>\n",
       "      <th>99</th>\n",
       "      <td>10.0</td>\n",
       "      <td>66</td>\n",
       "      <td>41.90</td>\n",
       "      <td>1.000000</td>\n",
       "      <td>0.666667</td>\n",
       "      <td>0.751704</td>\n",
       "      <td>0.500000</td>\n",
       "      <td>0.150303</td>\n",
       "      <td>0.220847</td>\n",
       "      <td>0.110423</td>\n",
       "      <td>0.033194</td>\n",
       "      <td>0.075152</td>\n",
       "      <td>0.250000</td>\n",
       "      <td>0.022591</td>\n",
       "      <td>0.158182</td>\n",
       "      <td>0.003927</td>\n",
       "    </tr>\n",
       "  </tbody>\n",
       "</table>\n",
       "<p>100 rows × 16 columns</p>\n",
       "</div>"
      ],
      "text/plain": [
       "    avg rainfall(x1)  elevation (x2)  flood risk (y)  normalized_x1  \\\n",
       "0                0.1              42           20.92       0.000000   \n",
       "1                0.2              49           30.44       0.010101   \n",
       "2                0.3              20            9.96       0.020202   \n",
       "3                0.4              66           36.98       0.030303   \n",
       "4                0.5               2            0.00       0.040404   \n",
       "..               ...             ...             ...            ...   \n",
       "95               9.6              60           37.82       0.959596   \n",
       "96               9.7              11            6.34       0.969697   \n",
       "97               9.8              38           20.86       0.979798   \n",
       "98               9.9              80           45.88       0.989899   \n",
       "99              10.0              66           41.90       1.000000   \n",
       "\n",
       "    normalized_x2  normalized_y  anom.norm.avg_rain(x1)  anom.norm.ele(x2)  \\\n",
       "0        0.424242      0.375314               -0.500000          -0.092121   \n",
       "1        0.494949      0.546107               -0.489899          -0.021414   \n",
       "2        0.202020      0.178687               -0.479798          -0.314343   \n",
       "3        0.666667      0.663437               -0.469697           0.150303   \n",
       "4        0.020202      0.000000               -0.459596          -0.496162   \n",
       "..            ...           ...                     ...                ...   \n",
       "95       0.606061      0.678507                0.459596           0.089697   \n",
       "96       0.111111      0.113742                0.469697          -0.405253   \n",
       "97       0.383838      0.374238                0.479798          -0.132525   \n",
       "98       0.808081      0.823107                0.489899           0.291717   \n",
       "99       0.666667      0.751704                0.500000           0.150303   \n",
       "\n",
       "    anom.norm.flood(y)       yX1       yX2      X1X2     X1_sq     X2_sq  \\\n",
       "0            -0.155544  0.077772  0.014329  0.046061  0.250000  0.008486   \n",
       "1             0.015249 -0.007471 -0.000327  0.010491  0.240001  0.000459   \n",
       "2            -0.352171  0.168971  0.110703  0.150821  0.230206  0.098812   \n",
       "3             0.132580 -0.062272  0.019927 -0.070597  0.220615  0.022591   \n",
       "4            -0.530858  0.243980  0.263391  0.228034  0.211228  0.246176   \n",
       "..                 ...       ...       ...       ...       ...       ...   \n",
       "95            0.147650  0.067859  0.013244  0.041224  0.211228  0.008046   \n",
       "96           -0.417115 -0.195918  0.169037 -0.190346  0.220615  0.164230   \n",
       "97           -0.156620 -0.075146  0.020756 -0.063585  0.230206  0.017563   \n",
       "98            0.292250  0.143173  0.085254  0.142912  0.240001  0.085099   \n",
       "99            0.220847  0.110423  0.033194  0.075152  0.250000  0.022591   \n",
       "\n",
       "      y_pred   residue  \n",
       "0  -0.105371  0.002517  \n",
       "1  -0.040750  0.003136  \n",
       "2  -0.306203  0.002113  \n",
       "3   0.115996  0.000275  \n",
       "4  -0.470360  0.003660  \n",
       "..       ...       ...  \n",
       "95  0.101412  0.002138  \n",
       "96 -0.347414  0.004858  \n",
       "97 -0.099420  0.003272  \n",
       "98  0.286105  0.000038  \n",
       "99  0.158182  0.003927  \n",
       "\n",
       "[100 rows x 16 columns]"
      ]
     },
     "execution_count": 194,
     "metadata": {},
     "output_type": "execute_result"
    }
   ],
   "source": [
    "df['residue'] = (df['anom.norm.flood(y)']-df['y_pred'])**2\n",
    "df"
   ]
  },
  {
   "cell_type": "code",
   "execution_count": 161,
   "metadata": {},
   "outputs": [
    {
     "data": {
      "text/plain": [
       "0.002398622932426294"
      ]
     },
     "execution_count": 161,
     "metadata": {},
     "output_type": "execute_result"
    }
   ],
   "source": [
    "residual = sum(((df['anom.norm.flood(y)']-df['y_pred'])**2))/len(df)\n",
    "residual"
   ]
  },
  {
   "cell_type": "code",
   "execution_count": 195,
   "metadata": {},
   "outputs": [
    {
     "data": {
      "text/plain": [
       "-1.403"
      ]
     },
     "execution_count": 195,
     "metadata": {},
     "output_type": "execute_result"
    }
   ],
   "source": [
    "# (0,0)\n",
    "y = -1.403 + 0.435*x1 + 0.908*x2\n",
    "y = -1.403 + 0.435*0 + 0.908*0\n",
    "y"
   ]
  },
  {
   "cell_type": "code",
   "execution_count": 196,
   "metadata": {},
   "outputs": [
    {
     "data": {
      "text/plain": [
       "-0.495"
      ]
     },
     "execution_count": 196,
     "metadata": {},
     "output_type": "execute_result"
    }
   ],
   "source": [
    "# (0,1)\n",
    "y = -1.403 + 0.435*x1 + 0.908*x2\n",
    "y = -1.403 + 0.435*0 + 0.908*1\n",
    "y"
   ]
  },
  {
   "cell_type": "code",
   "execution_count": 197,
   "metadata": {},
   "outputs": [
    {
     "data": {
      "text/plain": [
       "-0.968"
      ]
     },
     "execution_count": 197,
     "metadata": {},
     "output_type": "execute_result"
    }
   ],
   "source": [
    "# (1,0)\n",
    "y = -1.403 + 0.435*x1 + 0.908*x2\n",
    "y = -1.403 + 0.435*1 + 0.908*0\n",
    "y"
   ]
  },
  {
   "cell_type": "code",
   "execution_count": 198,
   "metadata": {},
   "outputs": [
    {
     "data": {
      "text/plain": [
       "-0.05999999999999994"
      ]
     },
     "execution_count": 198,
     "metadata": {},
     "output_type": "execute_result"
    }
   ],
   "source": [
    "# (1,1)\n",
    "y = -1.403 + 0.435*x1 + 0.908*x2\n",
    "y = -1.403 + 0.435*1 + 0.908*1\n",
    "y"
   ]
  },
  {
   "cell_type": "markdown",
   "metadata": {},
   "source": [
    "## Since the residual is very low, it is a good fit for our model."
   ]
  },
  {
   "cell_type": "markdown",
   "metadata": {},
   "source": [
    "# Cross - checking the model with Python Sklearn library. "
   ]
  },
  {
   "cell_type": "code",
   "execution_count": 115,
   "metadata": {},
   "outputs": [],
   "source": [
    "from sklearn.linear_model import LinearRegression"
   ]
  },
  {
   "cell_type": "code",
   "execution_count": 116,
   "metadata": {},
   "outputs": [
    {
     "data": {
      "text/html": [
       "<div>\n",
       "<style scoped>\n",
       "    .dataframe tbody tr th:only-of-type {\n",
       "        vertical-align: middle;\n",
       "    }\n",
       "\n",
       "    .dataframe tbody tr th {\n",
       "        vertical-align: top;\n",
       "    }\n",
       "\n",
       "    .dataframe thead th {\n",
       "        text-align: right;\n",
       "    }\n",
       "</style>\n",
       "<table border=\"1\" class=\"dataframe\">\n",
       "  <thead>\n",
       "    <tr style=\"text-align: right;\">\n",
       "      <th></th>\n",
       "      <th>avg rainfall(x1)</th>\n",
       "      <th>elevation (x2)</th>\n",
       "      <th>flood risk (y)</th>\n",
       "      <th>normalized_x1</th>\n",
       "      <th>normalized_x2</th>\n",
       "      <th>normalized_y</th>\n",
       "      <th>anom.norm.avg_rain(x1)</th>\n",
       "      <th>anom.norm.ele(x2)</th>\n",
       "      <th>anom.norm.flood(y)</th>\n",
       "      <th>yX1</th>\n",
       "      <th>yX2</th>\n",
       "      <th>X1X2</th>\n",
       "      <th>X1_sq</th>\n",
       "      <th>X2_sq</th>\n",
       "    </tr>\n",
       "  </thead>\n",
       "  <tbody>\n",
       "    <tr>\n",
       "      <th>0</th>\n",
       "      <td>0.1</td>\n",
       "      <td>42</td>\n",
       "      <td>20.92</td>\n",
       "      <td>0.000000</td>\n",
       "      <td>0.424242</td>\n",
       "      <td>0.375314</td>\n",
       "      <td>-0.500000</td>\n",
       "      <td>-0.092121</td>\n",
       "      <td>-0.155544</td>\n",
       "      <td>0.077772</td>\n",
       "      <td>0.014329</td>\n",
       "      <td>0.046061</td>\n",
       "      <td>0.250000</td>\n",
       "      <td>0.008486</td>\n",
       "    </tr>\n",
       "    <tr>\n",
       "      <th>1</th>\n",
       "      <td>0.2</td>\n",
       "      <td>49</td>\n",
       "      <td>30.44</td>\n",
       "      <td>0.010101</td>\n",
       "      <td>0.494949</td>\n",
       "      <td>0.546107</td>\n",
       "      <td>-0.489899</td>\n",
       "      <td>-0.021414</td>\n",
       "      <td>0.015249</td>\n",
       "      <td>-0.007471</td>\n",
       "      <td>-0.000327</td>\n",
       "      <td>0.010491</td>\n",
       "      <td>0.240001</td>\n",
       "      <td>0.000459</td>\n",
       "    </tr>\n",
       "    <tr>\n",
       "      <th>2</th>\n",
       "      <td>0.3</td>\n",
       "      <td>20</td>\n",
       "      <td>9.96</td>\n",
       "      <td>0.020202</td>\n",
       "      <td>0.202020</td>\n",
       "      <td>0.178687</td>\n",
       "      <td>-0.479798</td>\n",
       "      <td>-0.314343</td>\n",
       "      <td>-0.352171</td>\n",
       "      <td>0.168971</td>\n",
       "      <td>0.110703</td>\n",
       "      <td>0.150821</td>\n",
       "      <td>0.230206</td>\n",
       "      <td>0.098812</td>\n",
       "    </tr>\n",
       "    <tr>\n",
       "      <th>3</th>\n",
       "      <td>0.4</td>\n",
       "      <td>66</td>\n",
       "      <td>36.98</td>\n",
       "      <td>0.030303</td>\n",
       "      <td>0.666667</td>\n",
       "      <td>0.663437</td>\n",
       "      <td>-0.469697</td>\n",
       "      <td>0.150303</td>\n",
       "      <td>0.132580</td>\n",
       "      <td>-0.062272</td>\n",
       "      <td>0.019927</td>\n",
       "      <td>-0.070597</td>\n",
       "      <td>0.220615</td>\n",
       "      <td>0.022591</td>\n",
       "    </tr>\n",
       "    <tr>\n",
       "      <th>4</th>\n",
       "      <td>0.5</td>\n",
       "      <td>2</td>\n",
       "      <td>0.00</td>\n",
       "      <td>0.040404</td>\n",
       "      <td>0.020202</td>\n",
       "      <td>0.000000</td>\n",
       "      <td>-0.459596</td>\n",
       "      <td>-0.496162</td>\n",
       "      <td>-0.530858</td>\n",
       "      <td>0.243980</td>\n",
       "      <td>0.263391</td>\n",
       "      <td>0.228034</td>\n",
       "      <td>0.211228</td>\n",
       "      <td>0.246176</td>\n",
       "    </tr>\n",
       "  </tbody>\n",
       "</table>\n",
       "</div>"
      ],
      "text/plain": [
       "   avg rainfall(x1)  elevation (x2)  flood risk (y)  normalized_x1  \\\n",
       "0               0.1              42           20.92       0.000000   \n",
       "1               0.2              49           30.44       0.010101   \n",
       "2               0.3              20            9.96       0.020202   \n",
       "3               0.4              66           36.98       0.030303   \n",
       "4               0.5               2            0.00       0.040404   \n",
       "\n",
       "   normalized_x2  normalized_y  anom.norm.avg_rain(x1)  anom.norm.ele(x2)  \\\n",
       "0       0.424242      0.375314               -0.500000          -0.092121   \n",
       "1       0.494949      0.546107               -0.489899          -0.021414   \n",
       "2       0.202020      0.178687               -0.479798          -0.314343   \n",
       "3       0.666667      0.663437               -0.469697           0.150303   \n",
       "4       0.020202      0.000000               -0.459596          -0.496162   \n",
       "\n",
       "   anom.norm.flood(y)       yX1       yX2      X1X2     X1_sq     X2_sq  \n",
       "0           -0.155544  0.077772  0.014329  0.046061  0.250000  0.008486  \n",
       "1            0.015249 -0.007471 -0.000327  0.010491  0.240001  0.000459  \n",
       "2           -0.352171  0.168971  0.110703  0.150821  0.230206  0.098812  \n",
       "3            0.132580 -0.062272  0.019927 -0.070597  0.220615  0.022591  \n",
       "4           -0.530858  0.243980  0.263391  0.228034  0.211228  0.246176  "
      ]
     },
     "execution_count": 116,
     "metadata": {},
     "output_type": "execute_result"
    }
   ],
   "source": [
    "df.head()"
   ]
  },
  {
   "cell_type": "code",
   "execution_count": 162,
   "metadata": {},
   "outputs": [],
   "source": [
    "X = (df[[\"anom.norm.avg_rain(x1)\",\"anom.norm.ele(x2)\"]])\n",
    "y = df['anom.norm.flood(y)']"
   ]
  },
  {
   "cell_type": "code",
   "execution_count": 163,
   "metadata": {},
   "outputs": [
    {
     "data": {
      "text/plain": [
       "LinearRegression()"
      ]
     },
     "execution_count": 163,
     "metadata": {},
     "output_type": "execute_result"
    }
   ],
   "source": [
    "# instatiating an object for linear regression\n",
    "model = LinearRegression()\n",
    "\n",
    "# fitting our training data \n",
    "model.fit(X, y)"
   ]
  },
  {
   "cell_type": "code",
   "execution_count": 164,
   "metadata": {},
   "outputs": [
    {
     "data": {
      "text/plain": [
       "0.9696737424317305"
      ]
     },
     "execution_count": 164,
     "metadata": {},
     "output_type": "execute_result"
    }
   ],
   "source": [
    "# computing the accuracy\n",
    "model.score(X,y)"
   ]
  },
  {
   "cell_type": "code",
   "execution_count": 165,
   "metadata": {},
   "outputs": [
    {
     "data": {
      "text/plain": [
       "-1.4032426726772585e-16"
      ]
     },
     "execution_count": 165,
     "metadata": {},
     "output_type": "execute_result"
    }
   ],
   "source": [
    "model.intercept_"
   ]
  },
  {
   "cell_type": "code",
   "execution_count": 166,
   "metadata": {},
   "outputs": [
    {
     "data": {
      "text/plain": [
       "array([0.0435046 , 0.90769989])"
      ]
     },
     "execution_count": 166,
     "metadata": {},
     "output_type": "execute_result"
    }
   ],
   "source": [
    "model.coef_"
   ]
  },
  {
   "cell_type": "code",
   "execution_count": 167,
   "metadata": {},
   "outputs": [
    {
     "name": "stderr",
     "output_type": "stream",
     "text": [
      "C:\\Users\\vinee\\miniconda3\\lib\\site-packages\\sklearn\\base.py:445: UserWarning: X does not have valid feature names, but LinearRegression was fitted with feature names\n",
      "  warnings.warn(\n"
     ]
    },
    {
     "data": {
      "text/plain": [
       "array([109.09800556])"
      ]
     },
     "execution_count": 167,
     "metadata": {},
     "output_type": "execute_result"
    }
   ],
   "source": [
    "model.predict([[4,120]])"
   ]
  },
  {
   "cell_type": "code",
   "execution_count": 168,
   "metadata": {},
   "outputs": [
    {
     "data": {
      "text/plain": [
       "anom.norm.avg_rain(x1)    float64\n",
       "anom.norm.ele(x2)         float64\n",
       "dtype: object"
      ]
     },
     "execution_count": 168,
     "metadata": {},
     "output_type": "execute_result"
    }
   ],
   "source": [
    "X.dtypes"
   ]
  },
  {
   "cell_type": "code",
   "execution_count": 169,
   "metadata": {},
   "outputs": [
    {
     "data": {
      "text/plain": [
       "array([-0.10537072, -0.04075047, -0.30620292,  0.11599607, -0.47036038,\n",
       "       -0.3048846 ,  0.0439649 ,  0.04440434,  0.36574778, -0.07390969,\n",
       "       -0.11931368,  0.26621056, -0.00841057, -0.34721251, -0.20007409,\n",
       "       -0.18129728, -0.19919521,  0.2046664 ,  0.31513007,  0.28806346,\n",
       "        0.07762312, -0.45372121, -0.34325754,  0.33566465,  0.29026066,\n",
       "       -0.24108368, -0.34149978,  0.36492847,  0.15448813,  0.12742152,\n",
       "       -0.3489107 ,  0.34834886, -0.28385102, -0.36592975,  0.30382375,\n",
       "        0.37761267, -0.47463566,  0.0942623 , -0.36373255,  0.36103306,\n",
       "       -0.16114258,  0.40775537,  0.19731504, -0.16899295,  0.21653129,\n",
       "        0.41868182, -0.14933726,  0.43789807, -0.43268763,  0.31958404,\n",
       "       -0.36762795,  0.0729084 , -0.08251981, -0.27462277, -0.04496619,\n",
       "        0.13884697, -0.40166605, -0.0253105 , -0.35494374, -0.28115482,\n",
       "       -0.37240224, -0.06022748, -0.16981227, -0.3160718 , -0.11392127,\n",
       "        0.35412114, -0.19556056, -0.08509689, -0.09382614, -0.27676041,\n",
       "        0.30130623,  0.16421539,  0.40304066,  0.36680535, -0.07285212,\n",
       "        0.30350343,  0.18474996, -0.007353  ,  0.18562884,  0.35110462,\n",
       "        0.43406224,  0.44367036,  0.39826637,  0.39870581, -0.29767486,\n",
       "       -0.10469302, -0.08591621,  0.35462015, -0.17672419, -0.26797161,\n",
       "       -0.40506245, -0.12956244,  0.37515472, -0.08284013, -0.17408755,\n",
       "        0.10141247, -0.34741369, -0.09941974,  0.28610451,  0.15818235])"
      ]
     },
     "execution_count": 169,
     "metadata": {},
     "output_type": "execute_result"
    }
   ],
   "source": [
    "model.predict(X)"
   ]
  },
  {
   "cell_type": "markdown",
   "metadata": {},
   "source": [
    "# --------------------------------------------------------"
   ]
  }
 ],
 "metadata": {
  "interpreter": {
   "hash": "c7778a5c647f16cb99526ae99e37e33064e0ab71783b4111936ad28eb20f2845"
  },
  "kernelspec": {
   "display_name": "Python 3.9.5 64-bit ('base': conda)",
   "name": "python3"
  },
  "language_info": {
   "codemirror_mode": {
    "name": "ipython",
    "version": 3
   },
   "file_extension": ".py",
   "mimetype": "text/x-python",
   "name": "python",
   "nbconvert_exporter": "python",
   "pygments_lexer": "ipython3",
   "version": "3.9.5"
  },
  "orig_nbformat": 4
 },
 "nbformat": 4,
 "nbformat_minor": 2
}
